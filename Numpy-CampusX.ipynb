{
 "cells": [
  {
   "cell_type": "markdown",
   "id": "08774a81-11ba-4633-9e42-32ffd36fc148",
   "metadata": {},
   "source": [
    "# Creating Numpy Arrays"
   ]
  },
  {
   "cell_type": "code",
   "execution_count": 248,
   "id": "e7d411c8-9d72-4bb4-94a1-25ca35b71699",
   "metadata": {},
   "outputs": [],
   "source": [
    "# np.array\n",
    "import numpy as np"
   ]
  },
  {
   "cell_type": "code",
   "execution_count": 249,
   "id": "a0d25a89-baf6-48b6-81b7-6c1225c876eb",
   "metadata": {},
   "outputs": [
    {
     "name": "stdout",
     "output_type": "stream",
     "text": [
      "[1 2 3]\n"
     ]
    }
   ],
   "source": [
    "a = np.array([1,2,3])\n",
    "print(a) # vector"
   ]
  },
  {
   "cell_type": "code",
   "execution_count": 250,
   "id": "1de15f7c-5ebf-4df3-b5c9-09ce39f0642b",
   "metadata": {},
   "outputs": [
    {
     "name": "stdout",
     "output_type": "stream",
     "text": [
      "<class 'numpy.ndarray'>\n"
     ]
    }
   ],
   "source": [
    "print(type(a))"
   ]
  },
  {
   "cell_type": "code",
   "execution_count": 251,
   "id": "c1c36cd3-eec0-442f-8008-d5a20af7a54f",
   "metadata": {},
   "outputs": [
    {
     "name": "stdout",
     "output_type": "stream",
     "text": [
      "[[1 2 3]\n",
      " [4 5 6]]\n"
     ]
    }
   ],
   "source": [
    "# 2D and 3D\n",
    "b = np.array([[1,2,3],[4,5,6]])\n",
    "print(b) # 2 rows and 3 columns"
   ]
  },
  {
   "cell_type": "code",
   "execution_count": 252,
   "id": "e563ba3c-0980-40fe-8d9c-85f9abfc300e",
   "metadata": {},
   "outputs": [
    {
     "name": "stdout",
     "output_type": "stream",
     "text": [
      "[[[1 2]\n",
      "  [3 4]]\n",
      "\n",
      " [[5 6]\n",
      "  [7 8]]]\n"
     ]
    }
   ],
   "source": [
    "c = np.array( [[[1,2],[3,4]],[[5,6],[7,8]]])  #  three [ ] layers, it’s 3D!\n",
    "print(c)"
   ]
  },
  {
   "cell_type": "code",
   "execution_count": 253,
   "id": "ad60a051-6d3e-4ea2-b246-0aaa12ba0ca7",
   "metadata": {},
   "outputs": [
    {
     "data": {
      "text/plain": [
       "array([1., 2., 3.])"
      ]
     },
     "execution_count": 253,
     "metadata": {},
     "output_type": "execute_result"
    }
   ],
   "source": [
    "# dtype\n",
    "np.array([1,2,3], dtype = float)"
   ]
  },
  {
   "cell_type": "code",
   "execution_count": 254,
   "id": "a6a2497a-8dba-49f9-b105-4e48f44ba19d",
   "metadata": {},
   "outputs": [
    {
     "data": {
      "text/plain": [
       "array([ True,  True,  True])"
      ]
     },
     "execution_count": 254,
     "metadata": {},
     "output_type": "execute_result"
    }
   ],
   "source": [
    "np.array([1,2,3], dtype = bool) # Non zero value is considered as True"
   ]
  },
  {
   "cell_type": "code",
   "execution_count": 255,
   "id": "7b0e6e20-ab6a-4bfc-a782-ceb6d6f85888",
   "metadata": {},
   "outputs": [
    {
     "data": {
      "text/plain": [
       "array([1.+0.j, 2.+0.j, 3.+0.j])"
      ]
     },
     "execution_count": 255,
     "metadata": {},
     "output_type": "execute_result"
    }
   ],
   "source": [
    "np.array([1,2,3], dtype = complex)"
   ]
  },
  {
   "cell_type": "code",
   "execution_count": 256,
   "id": "51c2abc0-a7cc-46b8-b68a-01311c4fd281",
   "metadata": {},
   "outputs": [
    {
     "data": {
      "text/plain": [
       "array([ 1,  2,  3,  4,  5,  6,  7,  8,  9, 10])"
      ]
     },
     "execution_count": 256,
     "metadata": {},
     "output_type": "execute_result"
    }
   ],
   "source": [
    "#  np.arange\n",
    "np.arange(1,11) # last number is excluded"
   ]
  },
  {
   "cell_type": "code",
   "execution_count": 257,
   "id": "13eb2e80-4924-4c1a-a3c8-fb3a5d1dbc5e",
   "metadata": {},
   "outputs": [
    {
     "data": {
      "text/plain": [
       "array([1, 3, 5, 7, 9])"
      ]
     },
     "execution_count": 257,
     "metadata": {},
     "output_type": "execute_result"
    }
   ],
   "source": [
    "np.arange(1,11,2)   # 1 , 3, 5, 7"
   ]
  },
  {
   "cell_type": "code",
   "execution_count": 258,
   "id": "6f063639-7d4b-4105-b712-f90df83d1aa8",
   "metadata": {},
   "outputs": [
    {
     "data": {
      "text/plain": [
       "array([[ 1,  2],\n",
       "       [ 3,  4],\n",
       "       [ 5,  6],\n",
       "       [ 7,  8],\n",
       "       [ 9, 10]])"
      ]
     },
     "execution_count": 258,
     "metadata": {},
     "output_type": "execute_result"
    }
   ],
   "source": [
    "# with reshape\n",
    "np.arange(1,11).reshape(5, 2) # row = 5, column = 2"
   ]
  },
  {
   "cell_type": "code",
   "execution_count": 259,
   "id": "2db0b538-6536-4b69-a348-04af7eba5f19",
   "metadata": {},
   "outputs": [
    {
     "data": {
      "text/plain": [
       "array([[ 1,  2,  3,  4,  5],\n",
       "       [ 6,  7,  8,  9, 10]])"
      ]
     },
     "execution_count": 259,
     "metadata": {},
     "output_type": "execute_result"
    }
   ],
   "source": [
    "np.arange(1,11).reshape(2, 5)"
   ]
  },
  {
   "cell_type": "code",
   "execution_count": 260,
   "id": "9785ded7-11c7-4a8c-b956-d437109f73c2",
   "metadata": {},
   "outputs": [
    {
     "data": {
      "text/plain": [
       "array([[ 1,  2],\n",
       "       [ 3,  4],\n",
       "       [ 5,  6],\n",
       "       [ 7,  8],\n",
       "       [ 9, 10],\n",
       "       [11, 12]])"
      ]
     },
     "execution_count": 260,
     "metadata": {},
     "output_type": "execute_result"
    }
   ],
   "source": [
    "np.arange(1,13).reshape(6,2)  # must be possible reshape"
   ]
  },
  {
   "cell_type": "code",
   "execution_count": 261,
   "id": "6ede98f2-65de-4647-88c7-c12168fbbc2c",
   "metadata": {},
   "outputs": [
    {
     "data": {
      "text/plain": [
       "array([[1., 1., 1., 1.],\n",
       "       [1., 1., 1., 1.],\n",
       "       [1., 1., 1., 1.]])"
      ]
     },
     "execution_count": 261,
     "metadata": {},
     "output_type": "execute_result"
    }
   ],
   "source": [
    "# np.ones and np.zeros\n",
    "np.ones((3,4))"
   ]
  },
  {
   "cell_type": "code",
   "execution_count": 262,
   "id": "b6b96153-fbef-4280-a2b8-c0375845428b",
   "metadata": {},
   "outputs": [
    {
     "data": {
      "text/plain": [
       "array([[0., 0., 0.],\n",
       "       [0., 0., 0.]])"
      ]
     },
     "execution_count": 262,
     "metadata": {},
     "output_type": "execute_result"
    }
   ],
   "source": [
    "np.zeros((2,3))"
   ]
  },
  {
   "cell_type": "code",
   "execution_count": 263,
   "id": "fbce9ef8-7902-4285-895a-d82113afa062",
   "metadata": {},
   "outputs": [
    {
     "data": {
      "text/plain": [
       "array([[0.77547805, 0.5258656 , 0.10502862, 0.37429214],\n",
       "       [0.32131042, 0.55732494, 0.6653443 , 0.28020321],\n",
       "       [0.11122919, 0.39247146, 0.17168382, 0.81715622]])"
      ]
     },
     "execution_count": 263,
     "metadata": {},
     "output_type": "execute_result"
    }
   ],
   "source": [
    "# np.random\n",
    "np.random.random((3,4))  # random value from 0 to 1"
   ]
  },
  {
   "cell_type": "code",
   "execution_count": 264,
   "id": "628e4bce-e23c-4c39-961c-ba4c218a4f61",
   "metadata": {},
   "outputs": [],
   "source": [
    "# Array initializing way: 1. np.ones 2. np.zeros 3. np.random"
   ]
  },
  {
   "cell_type": "code",
   "execution_count": 265,
   "id": "a3468c12-790b-42a5-8cb3-147473f1fd5a",
   "metadata": {},
   "outputs": [
    {
     "data": {
      "text/plain": [
       "array([-10.        ,  -7.77777778,  -5.55555556,  -3.33333333,\n",
       "        -1.11111111,   1.11111111,   3.33333333,   5.55555556,\n",
       "         7.77777778,  10.        ])"
      ]
     },
     "execution_count": 265,
     "metadata": {},
     "output_type": "execute_result"
    }
   ],
   "source": [
    "# np.linspace [linearly spaced]\n",
    "\n",
    "np.linspace(-10, 10, 10 )   #(start,end,number of item)"
   ]
  },
  {
   "cell_type": "code",
   "execution_count": 266,
   "id": "73751eba-ea1a-46b9-ac0a-b49eb188b347",
   "metadata": {},
   "outputs": [
    {
     "data": {
      "text/plain": [
       "array([-10,  -8,  -6,  -4,  -2,   1,   3,   5,   7,  10])"
      ]
     },
     "execution_count": 266,
     "metadata": {},
     "output_type": "execute_result"
    }
   ],
   "source": [
    "np.linspace(-10, 10, 10, dtype = int )"
   ]
  },
  {
   "cell_type": "code",
   "execution_count": 267,
   "id": "5fb2fdba-4cb9-41a5-af08-b3a4bd019ad5",
   "metadata": {},
   "outputs": [
    {
     "data": {
      "text/plain": [
       "array([[1., 0., 0.],\n",
       "       [0., 1., 0.],\n",
       "       [0., 0., 1.]])"
      ]
     },
     "execution_count": 267,
     "metadata": {},
     "output_type": "execute_result"
    }
   ],
   "source": [
    "# np.identity\n",
    "np.identity(3)"
   ]
  },
  {
   "cell_type": "markdown",
   "id": "073e4c49-95e1-478a-9d81-0d02b5130908",
   "metadata": {},
   "source": [
    "# Array Attributes"
   ]
  },
  {
   "cell_type": "code",
   "execution_count": 268,
   "id": "a300591f-d9b2-43b3-8993-6845cdba500c",
   "metadata": {},
   "outputs": [
    {
     "data": {
      "text/plain": [
       "array([[[0, 1],\n",
       "        [2, 3]],\n",
       "\n",
       "       [[4, 5],\n",
       "        [6, 7]]])"
      ]
     },
     "execution_count": 268,
     "metadata": {},
     "output_type": "execute_result"
    }
   ],
   "source": [
    "a1 = np.arange(10)\n",
    "a2 = np.arange(12, dtype = float).reshape(3,4)\n",
    "a3 = np.arange(8).reshape(2,2,2)   # 2 blocks (along the first dimension) # 3D or Tensor\n",
    "\n",
    "a3"
   ]
  },
  {
   "cell_type": "code",
   "execution_count": 269,
   "id": "03203b38-9316-4542-b27e-ee254dc49542",
   "metadata": {},
   "outputs": [
    {
     "data": {
      "text/plain": [
       "1"
      ]
     },
     "execution_count": 269,
     "metadata": {},
     "output_type": "execute_result"
    }
   ],
   "source": [
    "# ndim [number of dimensions]\n",
    "a1.ndim"
   ]
  },
  {
   "cell_type": "code",
   "execution_count": 270,
   "id": "506d1dac-e887-461d-a4b0-39e535b84468",
   "metadata": {},
   "outputs": [
    {
     "data": {
      "text/plain": [
       "2"
      ]
     },
     "execution_count": 270,
     "metadata": {},
     "output_type": "execute_result"
    }
   ],
   "source": [
    "a2.ndim"
   ]
  },
  {
   "cell_type": "code",
   "execution_count": 271,
   "id": "09ccdbc7-587e-44f3-8b10-07a3b0007a25",
   "metadata": {},
   "outputs": [
    {
     "data": {
      "text/plain": [
       "3"
      ]
     },
     "execution_count": 271,
     "metadata": {},
     "output_type": "execute_result"
    }
   ],
   "source": [
    "a3.ndim"
   ]
  },
  {
   "cell_type": "code",
   "execution_count": 272,
   "id": "f9123f91-8ba6-47a6-83f2-139f84f4cdc3",
   "metadata": {},
   "outputs": [
    {
     "data": {
      "text/plain": [
       "(10,)"
      ]
     },
     "execution_count": 272,
     "metadata": {},
     "output_type": "execute_result"
    }
   ],
   "source": [
    "# shape [how many rows and columns]\n",
    "a1.shape"
   ]
  },
  {
   "cell_type": "code",
   "execution_count": 273,
   "id": "c636003b-341a-44ff-8cf8-68d2442e515e",
   "metadata": {},
   "outputs": [
    {
     "data": {
      "text/plain": [
       "(3, 4)"
      ]
     },
     "execution_count": 273,
     "metadata": {},
     "output_type": "execute_result"
    }
   ],
   "source": [
    "a2.shape"
   ]
  },
  {
   "cell_type": "code",
   "execution_count": 274,
   "id": "5c393758-fc3c-4f3b-b164-b0120c28c3f0",
   "metadata": {},
   "outputs": [
    {
     "name": "stdout",
     "output_type": "stream",
     "text": [
      "(2, 2, 2)\n"
     ]
    },
    {
     "data": {
      "text/plain": [
       "array([[[0, 1],\n",
       "        [2, 3]],\n",
       "\n",
       "       [[4, 5],\n",
       "        [6, 7]]])"
      ]
     },
     "execution_count": 274,
     "metadata": {},
     "output_type": "execute_result"
    }
   ],
   "source": [
    "print(a3.shape) # (2, 2, 2) There are 2D arrays of shape 2 (how many 2D array ---> 2)\n",
    "a3"
   ]
  },
  {
   "cell_type": "code",
   "execution_count": 275,
   "id": "e5aa1753-3d96-44dc-9b75-6dd495aa6552",
   "metadata": {},
   "outputs": [
    {
     "data": {
      "text/plain": [
       "8"
      ]
     },
     "execution_count": 275,
     "metadata": {},
     "output_type": "execute_result"
    }
   ],
   "source": [
    "# size [number of items/elements]\n",
    "a3.size"
   ]
  },
  {
   "cell_type": "code",
   "execution_count": 276,
   "id": "eb6b399e-a3f1-45fa-bb61-08ca187020e3",
   "metadata": {},
   "outputs": [
    {
     "data": {
      "text/plain": [
       "12"
      ]
     },
     "execution_count": 276,
     "metadata": {},
     "output_type": "execute_result"
    }
   ],
   "source": [
    "a2.size"
   ]
  },
  {
   "cell_type": "code",
   "execution_count": 277,
   "id": "d2559d39-2005-4298-bc77-324220a676f2",
   "metadata": {},
   "outputs": [
    {
     "data": {
      "text/plain": [
       "array([[ 0.,  1.,  2.,  3.],\n",
       "       [ 4.,  5.,  6.,  7.],\n",
       "       [ 8.,  9., 10., 11.]])"
      ]
     },
     "execution_count": 277,
     "metadata": {},
     "output_type": "execute_result"
    }
   ],
   "source": [
    "a2"
   ]
  },
  {
   "cell_type": "code",
   "execution_count": 278,
   "id": "285ca0ad-3846-4b12-81e7-0d3404744dbf",
   "metadata": {},
   "outputs": [
    {
     "data": {
      "text/plain": [
       "8"
      ]
     },
     "execution_count": 278,
     "metadata": {},
     "output_type": "execute_result"
    }
   ],
   "source": [
    "# itemsize [item occupied how much memory size]\n",
    "a2.itemsize  # how many bytes\n",
    "            # itemsize gives the size of one element, not the entire array."
   ]
  },
  {
   "cell_type": "code",
   "execution_count": 279,
   "id": "06672db6-27f8-4ea9-b06f-f3c3a1fec645",
   "metadata": {},
   "outputs": [
    {
     "data": {
      "text/plain": [
       "array([0, 1, 2, 3, 4, 5, 6, 7, 8, 9])"
      ]
     },
     "execution_count": 279,
     "metadata": {},
     "output_type": "execute_result"
    }
   ],
   "source": [
    "a1"
   ]
  },
  {
   "cell_type": "code",
   "execution_count": 280,
   "id": "600daa44-8eff-45f3-a446-ef6b8a67c8ae",
   "metadata": {},
   "outputs": [
    {
     "data": {
      "text/plain": [
       "4"
      ]
     },
     "execution_count": 280,
     "metadata": {},
     "output_type": "execute_result"
    }
   ],
   "source": [
    "a1.itemsize"
   ]
  },
  {
   "cell_type": "code",
   "execution_count": 281,
   "id": "fad76e68-0841-4ffc-a23d-3624f2457991",
   "metadata": {},
   "outputs": [
    {
     "name": "stdout",
     "output_type": "stream",
     "text": [
      "int32\n",
      "float64\n",
      "int32\n"
     ]
    }
   ],
   "source": [
    "# dtype\n",
    "# 32bit occupied less size than 64bit\n",
    "print(a1.dtype)\n",
    "print(a2.dtype)\n",
    "print(a3.dtype)"
   ]
  },
  {
   "cell_type": "markdown",
   "id": "820d496e-c938-419d-81fa-2375fb185ab6",
   "metadata": {},
   "source": [
    "# Changing Datatype"
   ]
  },
  {
   "cell_type": "code",
   "execution_count": 282,
   "id": "c98db661-845d-4b5a-ad33-cb81d78d43aa",
   "metadata": {},
   "outputs": [
    {
     "data": {
      "text/plain": [
       "dtype('int32')"
      ]
     },
     "execution_count": 282,
     "metadata": {},
     "output_type": "execute_result"
    }
   ],
   "source": [
    "# astype\n",
    "a3.dtype"
   ]
  },
  {
   "cell_type": "code",
   "execution_count": 283,
   "id": "2b1c103e-e124-4e3e-bf1d-1ca5f544f32a",
   "metadata": {},
   "outputs": [
    {
     "data": {
      "text/plain": [
       "array([[[0, 1],\n",
       "        [2, 3]],\n",
       "\n",
       "       [[4, 5],\n",
       "        [6, 7]]], dtype=int64)"
      ]
     },
     "execution_count": 283,
     "metadata": {},
     "output_type": "execute_result"
    }
   ],
   "source": [
    "a3.astype(np.int64)"
   ]
  },
  {
   "cell_type": "markdown",
   "id": "8fb5bef1-f141-4c6a-a538-a476abe58cd7",
   "metadata": {},
   "source": [
    "# Array Operations"
   ]
  },
  {
   "cell_type": "code",
   "execution_count": 284,
   "id": "ce47aabd-db88-432f-8ddc-df482dd8d498",
   "metadata": {},
   "outputs": [],
   "source": [
    "a1 = np.arange(12).reshape(3,4)\n",
    "a2 = np.arange(12,24).reshape(3,4)"
   ]
  },
  {
   "cell_type": "code",
   "execution_count": 285,
   "id": "91414ca8-3d89-4ce2-8c6f-b6fdbbaa51a9",
   "metadata": {},
   "outputs": [
    {
     "data": {
      "text/plain": [
       "array([[ 0,  1,  2,  3],\n",
       "       [ 4,  5,  6,  7],\n",
       "       [ 8,  9, 10, 11]])"
      ]
     },
     "execution_count": 285,
     "metadata": {},
     "output_type": "execute_result"
    }
   ],
   "source": [
    "a1"
   ]
  },
  {
   "cell_type": "code",
   "execution_count": 286,
   "id": "38adcfd3-55a4-4a3c-817c-24885e547be9",
   "metadata": {},
   "outputs": [
    {
     "data": {
      "text/plain": [
       "array([[12, 13, 14, 15],\n",
       "       [16, 17, 18, 19],\n",
       "       [20, 21, 22, 23]])"
      ]
     },
     "execution_count": 286,
     "metadata": {},
     "output_type": "execute_result"
    }
   ],
   "source": [
    "a2"
   ]
  },
  {
   "cell_type": "code",
   "execution_count": 287,
   "id": "ffdcd09e-e387-4adb-86e7-c3084425cb82",
   "metadata": {},
   "outputs": [],
   "source": [
    "# scalar opearations"
   ]
  },
  {
   "cell_type": "code",
   "execution_count": 288,
   "id": "616630ce-2aaa-439b-ab4e-e69fa9a3bffc",
   "metadata": {},
   "outputs": [
    {
     "data": {
      "text/plain": [
       "array([[ 0,  2,  4,  6],\n",
       "       [ 8, 10, 12, 14],\n",
       "       [16, 18, 20, 22]])"
      ]
     },
     "execution_count": 288,
     "metadata": {},
     "output_type": "execute_result"
    }
   ],
   "source": [
    "# arithmetic\n",
    "a1 * 2"
   ]
  },
  {
   "cell_type": "code",
   "execution_count": 289,
   "id": "7ca941ea-e613-4ea0-b35a-36c75ab324a4",
   "metadata": {},
   "outputs": [
    {
     "data": {
      "text/plain": [
       "array([[-2, -1,  0,  1],\n",
       "       [ 2,  3,  4,  5],\n",
       "       [ 6,  7,  8,  9]])"
      ]
     },
     "execution_count": 289,
     "metadata": {},
     "output_type": "execute_result"
    }
   ],
   "source": [
    "a1 - 2"
   ]
  },
  {
   "cell_type": "code",
   "execution_count": 290,
   "id": "2ba2b9ea-b334-46d0-9b86-255c46d5f0f1",
   "metadata": {},
   "outputs": [
    {
     "data": {
      "text/plain": [
       "array([[0. , 0.5, 1. , 1.5],\n",
       "       [2. , 2.5, 3. , 3.5],\n",
       "       [4. , 4.5, 5. , 5.5]])"
      ]
     },
     "execution_count": 290,
     "metadata": {},
     "output_type": "execute_result"
    }
   ],
   "source": [
    "a1 / 2"
   ]
  },
  {
   "cell_type": "code",
   "execution_count": 291,
   "id": "75fcc38b-90d4-44bb-b695-411b1bc37007",
   "metadata": {},
   "outputs": [
    {
     "data": {
      "text/plain": [
       "array([[  0,   1,   4,   9],\n",
       "       [ 16,  25,  36,  49],\n",
       "       [ 64,  81, 100, 121]])"
      ]
     },
     "execution_count": 291,
     "metadata": {},
     "output_type": "execute_result"
    }
   ],
   "source": [
    "a1 ** 2    # square"
   ]
  },
  {
   "cell_type": "code",
   "execution_count": 292,
   "id": "9d5a3b27-b394-497b-a255-d8e07184d1de",
   "metadata": {},
   "outputs": [
    {
     "data": {
      "text/plain": [
       "array([[False, False, False, False],\n",
       "       [ True,  True,  True,  True],\n",
       "       [ True,  True,  True,  True]])"
      ]
     },
     "execution_count": 292,
     "metadata": {},
     "output_type": "execute_result"
    }
   ],
   "source": [
    "# relational\n",
    "a2 > 15"
   ]
  },
  {
   "cell_type": "code",
   "execution_count": 293,
   "id": "876d1ee5-2a33-4d72-8913-b62fd81905fd",
   "metadata": {},
   "outputs": [
    {
     "data": {
      "text/plain": [
       "array([[False, False, False,  True],\n",
       "       [False, False, False, False],\n",
       "       [False, False, False, False]])"
      ]
     },
     "execution_count": 293,
     "metadata": {},
     "output_type": "execute_result"
    }
   ],
   "source": [
    "a2 == 15"
   ]
  },
  {
   "cell_type": "code",
   "execution_count": 294,
   "id": "5d941f84-8f01-407e-b2ad-414cbc57794a",
   "metadata": {},
   "outputs": [],
   "source": [
    "# vector opearations"
   ]
  },
  {
   "cell_type": "code",
   "execution_count": 295,
   "id": "28429f6a-1db1-4c57-b357-0be053d9beee",
   "metadata": {},
   "outputs": [
    {
     "data": {
      "text/plain": [
       "array([[12, 14, 16, 18],\n",
       "       [20, 22, 24, 26],\n",
       "       [28, 30, 32, 34]])"
      ]
     },
     "execution_count": 295,
     "metadata": {},
     "output_type": "execute_result"
    }
   ],
   "source": [
    "a1 + a2"
   ]
  },
  {
   "cell_type": "code",
   "execution_count": 296,
   "id": "014e0c25-620e-4a38-8bc9-e2252ed9b616",
   "metadata": {},
   "outputs": [
    {
     "data": {
      "text/plain": [
       "array([[          0,           1,       16384,    14348907],\n",
       "       [          0, -1564725563,  1159987200,   442181591],\n",
       "       [          0,  1914644777, -1304428544,  -122979837]])"
      ]
     },
     "execution_count": 296,
     "metadata": {},
     "output_type": "execute_result"
    }
   ],
   "source": [
    "a1 ** a2   # Each element in a1 is raised to the power of the corresponding element in a2."
   ]
  },
  {
   "cell_type": "markdown",
   "id": "c12a8151-f49e-4345-8ed5-54234ea5cba1",
   "metadata": {},
   "source": [
    "# Array Functions"
   ]
  },
  {
   "cell_type": "code",
   "execution_count": 297,
   "id": "fd9450d0-c3e9-4123-8a1c-b57a557c9ab7",
   "metadata": {},
   "outputs": [
    {
     "data": {
      "text/plain": [
       "array([[87., 47.,  7.],\n",
       "       [ 3., 37., 63.],\n",
       "       [58., 36.,  7.]])"
      ]
     },
     "execution_count": 297,
     "metadata": {},
     "output_type": "execute_result"
    }
   ],
   "source": [
    "a1 = np.random.random((3,3))\n",
    "a1 = np.round(a1*100)  # multiply a1 by 100\n",
    "a1"
   ]
  },
  {
   "cell_type": "code",
   "execution_count": 298,
   "id": "5502932a-8cbe-4e45-bde2-ea78e9053404",
   "metadata": {},
   "outputs": [],
   "source": [
    "# max/min/sum/prod"
   ]
  },
  {
   "cell_type": "code",
   "execution_count": 299,
   "id": "7061304f-45e6-4685-9437-c47c239f47e5",
   "metadata": {},
   "outputs": [
    {
     "data": {
      "text/plain": [
       "array([[87., 47.,  7.],\n",
       "       [ 3., 37., 63.],\n",
       "       [58., 36.,  7.]])"
      ]
     },
     "execution_count": 299,
     "metadata": {},
     "output_type": "execute_result"
    }
   ],
   "source": [
    "a1"
   ]
  },
  {
   "cell_type": "code",
   "execution_count": 300,
   "id": "019244e5-d3cd-4e03-aaac-babb12e24b40",
   "metadata": {},
   "outputs": [
    {
     "data": {
      "text/plain": [
       "87.0"
      ]
     },
     "execution_count": 300,
     "metadata": {},
     "output_type": "execute_result"
    }
   ],
   "source": [
    "np.max(a1)"
   ]
  },
  {
   "cell_type": "code",
   "execution_count": 301,
   "id": "b00b1b81-54a7-41ba-931b-0c611e8a13a4",
   "metadata": {},
   "outputs": [
    {
     "data": {
      "text/plain": [
       "3.0"
      ]
     },
     "execution_count": 301,
     "metadata": {},
     "output_type": "execute_result"
    }
   ],
   "source": [
    "np.min(a1)"
   ]
  },
  {
   "cell_type": "code",
   "execution_count": 302,
   "id": "cafe2556-88c4-44d5-b624-1a717bd11f46",
   "metadata": {},
   "outputs": [
    {
     "data": {
      "text/plain": [
       "345.0"
      ]
     },
     "execution_count": 302,
     "metadata": {},
     "output_type": "execute_result"
    }
   ],
   "source": [
    "np.sum(a1)"
   ]
  },
  {
   "cell_type": "code",
   "execution_count": 303,
   "id": "ef9d0434-a912-482c-b24a-08a4a2fe4626",
   "metadata": {},
   "outputs": [
    {
     "data": {
      "text/plain": [
       "2925547899624.0"
      ]
     },
     "execution_count": 303,
     "metadata": {},
     "output_type": "execute_result"
    }
   ],
   "source": [
    "np.prod(a1)"
   ]
  },
  {
   "cell_type": "code",
   "execution_count": 304,
   "id": "e6d9197f-05b3-4b85-8c8e-8d72e18fe5a0",
   "metadata": {},
   "outputs": [
    {
     "data": {
      "text/plain": [
       "24"
      ]
     },
     "execution_count": 304,
     "metadata": {},
     "output_type": "execute_result"
    }
   ],
   "source": [
    "a = [1, 2, 3, 4]\n",
    "np.prod(a)"
   ]
  },
  {
   "cell_type": "code",
   "execution_count": 305,
   "id": "17c7fa4c-68a1-4977-8c10-82cdab000640",
   "metadata": {},
   "outputs": [
    {
     "data": {
      "text/plain": [
       "array([87., 47., 63.])"
      ]
     },
     "execution_count": 305,
     "metadata": {},
     "output_type": "execute_result"
    }
   ],
   "source": [
    "# 0 ---> col and 1 ---> row\n",
    "np.max(a1, axis=0) # maximum item in every column"
   ]
  },
  {
   "cell_type": "code",
   "execution_count": 306,
   "id": "099e7925-78eb-4140-8215-dccff7f03571",
   "metadata": {},
   "outputs": [
    {
     "data": {
      "text/plain": [
       "array([87., 63., 58.])"
      ]
     },
     "execution_count": 306,
     "metadata": {},
     "output_type": "execute_result"
    }
   ],
   "source": [
    "np.max(a1, axis=1) # maximum item in every row"
   ]
  },
  {
   "cell_type": "code",
   "execution_count": 307,
   "id": "c9d79031-0aa4-4b7c-8f0f-4123de2bc4f5",
   "metadata": {},
   "outputs": [
    {
     "data": {
      "text/plain": [
       "array([148., 120.,  77.])"
      ]
     },
     "execution_count": 307,
     "metadata": {},
     "output_type": "execute_result"
    }
   ],
   "source": [
    "np.sum(a1, axis=0)"
   ]
  },
  {
   "cell_type": "code",
   "execution_count": 308,
   "id": "89788e98-396b-4ca9-9b9e-fbf790550312",
   "metadata": {},
   "outputs": [
    {
     "data": {
      "text/plain": [
       "array([ 3., 36.,  7.])"
      ]
     },
     "execution_count": 308,
     "metadata": {},
     "output_type": "execute_result"
    }
   ],
   "source": [
    "np.min(a1, axis=0)"
   ]
  },
  {
   "cell_type": "code",
   "execution_count": 309,
   "id": "7b6696da-5644-4411-879d-06c06bbcffe6",
   "metadata": {},
   "outputs": [
    {
     "data": {
      "text/plain": [
       "array([15138., 62604.,  3087.])"
      ]
     },
     "execution_count": 309,
     "metadata": {},
     "output_type": "execute_result"
    }
   ],
   "source": [
    "np.prod(a1, axis=0)"
   ]
  },
  {
   "cell_type": "code",
   "execution_count": 310,
   "id": "b0b9b045-5e5e-468f-afac-14b83cd884c1",
   "metadata": {},
   "outputs": [
    {
     "data": {
      "text/plain": [
       "38.333333333333336"
      ]
     },
     "execution_count": 310,
     "metadata": {},
     "output_type": "execute_result"
    }
   ],
   "source": [
    "np.mean(a1)"
   ]
  },
  {
   "cell_type": "code",
   "execution_count": 311,
   "id": "0a0e5898-b1d7-4f9a-a9f6-cdbe2a45512c",
   "metadata": {},
   "outputs": [],
   "source": [
    "# mean/median/std/var"
   ]
  },
  {
   "cell_type": "code",
   "execution_count": 312,
   "id": "9c450d69-e476-4889-98a5-e4ed8d62a54d",
   "metadata": {},
   "outputs": [
    {
     "data": {
      "text/plain": [
       "array([[87., 47.,  7.],\n",
       "       [ 3., 37., 63.],\n",
       "       [58., 36.,  7.]])"
      ]
     },
     "execution_count": 312,
     "metadata": {},
     "output_type": "execute_result"
    }
   ],
   "source": [
    "a1"
   ]
  },
  {
   "cell_type": "code",
   "execution_count": 313,
   "id": "bc907425-566d-41b0-836c-e5802d533b76",
   "metadata": {},
   "outputs": [
    {
     "data": {
      "text/plain": [
       "array([47.        , 34.33333333, 33.66666667])"
      ]
     },
     "execution_count": 313,
     "metadata": {},
     "output_type": "execute_result"
    }
   ],
   "source": [
    "np.mean(a1, axis=1) #Row-wise"
   ]
  },
  {
   "cell_type": "code",
   "execution_count": 314,
   "id": "e80dae4b-e15f-4251-80b4-795c914f183f",
   "metadata": {},
   "outputs": [
    {
     "data": {
      "text/plain": [
       "array([47., 37., 36.])"
      ]
     },
     "execution_count": 314,
     "metadata": {},
     "output_type": "execute_result"
    }
   ],
   "source": [
    "np.median(a1, axis = 1)"
   ]
  },
  {
   "cell_type": "code",
   "execution_count": 315,
   "id": "d020264d-179b-4064-a0f3-416ea97f0732",
   "metadata": {},
   "outputs": [
    {
     "data": {
      "text/plain": [
       "array([32.65986324, 24.5673677 , 20.8859336 ])"
      ]
     },
     "execution_count": 315,
     "metadata": {},
     "output_type": "execute_result"
    }
   ],
   "source": [
    "np.std( a1, axis =1)"
   ]
  },
  {
   "cell_type": "code",
   "execution_count": 316,
   "id": "edabffb5-370c-4ee1-b091-8cf99e5813fe",
   "metadata": {},
   "outputs": [
    {
     "data": {
      "text/plain": [
       "array([1066.66666667,  603.55555556,  436.22222222])"
      ]
     },
     "execution_count": 316,
     "metadata": {},
     "output_type": "execute_result"
    }
   ],
   "source": [
    "np.var(a1, axis=1)"
   ]
  },
  {
   "cell_type": "code",
   "execution_count": 317,
   "id": "e296670e-64e5-45b2-9496-13e67739ef9a",
   "metadata": {},
   "outputs": [
    {
     "data": {
      "text/plain": [
       "array([[-0.82181784,  0.12357312,  0.6569866 ],\n",
       "       [ 0.14112001, -0.64353813,  0.1673557 ],\n",
       "       [ 0.99287265, -0.99177885,  0.6569866 ]])"
      ]
     },
     "execution_count": 317,
     "metadata": {},
     "output_type": "execute_result"
    }
   ],
   "source": [
    "# trigonometric functions\n",
    "np.sin(a1)"
   ]
  },
  {
   "cell_type": "code",
   "execution_count": 318,
   "id": "afc3ce9a-9b5f-4bcd-a5e1-d4abd65fba18",
   "metadata": {},
   "outputs": [],
   "source": [
    "# dot product[possible if column of 1st matrix = row of 2nd matrix];Matrix multiplication\n",
    "\n",
    "a2 = np.arange(12).reshape(3,4)\n",
    "a3 = np.arange(12,24).reshape(4,3)"
   ]
  },
  {
   "cell_type": "code",
   "execution_count": 319,
   "id": "992ce3e7-901b-4295-9b8c-f196a99f0b2f",
   "metadata": {},
   "outputs": [
    {
     "data": {
      "text/plain": [
       "array([[114, 120, 126],\n",
       "       [378, 400, 422],\n",
       "       [642, 680, 718]])"
      ]
     },
     "execution_count": 319,
     "metadata": {},
     "output_type": "execute_result"
    }
   ],
   "source": [
    "np.dot(a2, a3)"
   ]
  },
  {
   "cell_type": "code",
   "execution_count": 320,
   "id": "5f762d9a-1399-4e49-be51-e72fda2bf55b",
   "metadata": {},
   "outputs": [
    {
     "data": {
      "text/plain": [
       "array([[4.46590812, 3.8501476 , 1.94591015],\n",
       "       [1.09861229, 3.61091791, 4.14313473],\n",
       "       [4.06044301, 3.58351894, 1.94591015]])"
      ]
     },
     "execution_count": 320,
     "metadata": {},
     "output_type": "execute_result"
    }
   ],
   "source": [
    "# log and exponents\n",
    "np.log(a1)"
   ]
  },
  {
   "cell_type": "code",
   "execution_count": 321,
   "id": "15bb20cf-7848-406a-a2f8-dce7ca0f1649",
   "metadata": {},
   "outputs": [
    {
     "data": {
      "text/plain": [
       "array([[6.07603023e+37, 2.58131289e+20, 1.09663316e+03],\n",
       "       [2.00855369e+01, 1.17191424e+16, 2.29378316e+27],\n",
       "       [1.54553894e+25, 4.31123155e+15, 1.09663316e+03]])"
      ]
     },
     "execution_count": 321,
     "metadata": {},
     "output_type": "execute_result"
    }
   ],
   "source": [
    "np.exp(a1)"
   ]
  },
  {
   "cell_type": "code",
   "execution_count": 322,
   "id": "33c54ffa-f4a0-48b7-addd-136fdc47cd3c",
   "metadata": {},
   "outputs": [],
   "source": [
    "# round/floor/ceil"
   ]
  },
  {
   "cell_type": "code",
   "execution_count": 323,
   "id": "11ec1ac4-e954-4937-935f-a8153346e350",
   "metadata": {},
   "outputs": [
    {
     "data": {
      "text/plain": [
       "array([[61.87146392, 11.18338759, 85.15871147],\n",
       "       [59.3340349 , 11.63999115, 76.47824883]])"
      ]
     },
     "execution_count": 323,
     "metadata": {},
     "output_type": "execute_result"
    }
   ],
   "source": [
    "a1 = np.random.random((2,3))*100\n",
    "a1"
   ]
  },
  {
   "cell_type": "code",
   "execution_count": 324,
   "id": "22596868-18a7-483c-b763-55ab6b3084f2",
   "metadata": {},
   "outputs": [
    {
     "data": {
      "text/plain": [
       "array([[62., 11., 85.],\n",
       "       [59., 12., 76.]])"
      ]
     },
     "execution_count": 324,
     "metadata": {},
     "output_type": "execute_result"
    }
   ],
   "source": [
    "np.round(a1)"
   ]
  },
  {
   "cell_type": "code",
   "execution_count": 325,
   "id": "549dc17b-1bd7-464a-9aff-a2542e5df8a3",
   "metadata": {},
   "outputs": [
    {
     "data": {
      "text/plain": [
       "array([[61., 11., 85.],\n",
       "       [59., 11., 76.]])"
      ]
     },
     "execution_count": 325,
     "metadata": {},
     "output_type": "execute_result"
    }
   ],
   "source": [
    "np.floor(a1)"
   ]
  },
  {
   "cell_type": "code",
   "execution_count": 326,
   "id": "3526e011-6308-46af-8b1b-baeeaf6c68ce",
   "metadata": {},
   "outputs": [
    {
     "data": {
      "text/plain": [
       "array([[62, 12, 86],\n",
       "       [60, 12, 77]])"
      ]
     },
     "execution_count": 326,
     "metadata": {},
     "output_type": "execute_result"
    }
   ],
   "source": [
    "np.ceil(a1).astype(int)"
   ]
  },
  {
   "cell_type": "markdown",
   "id": "23e6b9e4-ffae-42d9-ac0b-980c9d020f5a",
   "metadata": {},
   "source": [
    "# Indexing and Slicing"
   ]
  },
  {
   "cell_type": "code",
   "execution_count": 327,
   "id": "bdcbfd65-e61a-4aa9-947a-b8c2f5a8c1cf",
   "metadata": {},
   "outputs": [
    {
     "data": {
      "text/plain": [
       "array([[[0, 1],\n",
       "        [2, 3]],\n",
       "\n",
       "       [[4, 5],\n",
       "        [6, 7]]])"
      ]
     },
     "execution_count": 327,
     "metadata": {},
     "output_type": "execute_result"
    }
   ],
   "source": [
    "a1 = np.arange(10)\n",
    "a2 = np.arange(12).reshape(3,4)\n",
    "a3 = np.arange(8).reshape(2,2,2)\n",
    "\n",
    "a3"
   ]
  },
  {
   "cell_type": "code",
   "execution_count": 328,
   "id": "67709cd3-1fb3-469a-8d65-307fe1d376c9",
   "metadata": {},
   "outputs": [
    {
     "data": {
      "text/plain": [
       "array([0, 1, 2, 3, 4, 5, 6, 7, 8, 9])"
      ]
     },
     "execution_count": 328,
     "metadata": {},
     "output_type": "execute_result"
    }
   ],
   "source": [
    "a1"
   ]
  },
  {
   "cell_type": "code",
   "execution_count": 329,
   "id": "38e741de-fe18-4b41-8594-b91e452e5d15",
   "metadata": {},
   "outputs": [
    {
     "data": {
      "text/plain": [
       "9"
      ]
     },
     "execution_count": 329,
     "metadata": {},
     "output_type": "execute_result"
    }
   ],
   "source": [
    "a1[-1] # last item of a1"
   ]
  },
  {
   "cell_type": "code",
   "execution_count": 330,
   "id": "bd3170c8-0703-407d-be0e-74f27c822e91",
   "metadata": {},
   "outputs": [
    {
     "data": {
      "text/plain": [
       "0"
      ]
     },
     "execution_count": 330,
     "metadata": {},
     "output_type": "execute_result"
    }
   ],
   "source": [
    "a1[0]"
   ]
  },
  {
   "cell_type": "code",
   "execution_count": 331,
   "id": "b1fc7844-0b11-471c-b870-7888d88e4e87",
   "metadata": {},
   "outputs": [
    {
     "data": {
      "text/plain": [
       "array([[ 0,  1,  2,  3],\n",
       "       [ 4,  5,  6,  7],\n",
       "       [ 8,  9, 10, 11]])"
      ]
     },
     "execution_count": 331,
     "metadata": {},
     "output_type": "execute_result"
    }
   ],
   "source": [
    "a2"
   ]
  },
  {
   "cell_type": "code",
   "execution_count": 332,
   "id": "5e06c219-f992-42b8-9585-171947cd2bc8",
   "metadata": {},
   "outputs": [
    {
     "data": {
      "text/plain": [
       "6"
      ]
     },
     "execution_count": 332,
     "metadata": {},
     "output_type": "execute_result"
    }
   ],
   "source": [
    "a2[1,2]  #1st row,2nd column  # start with 0th row and 0th column"
   ]
  },
  {
   "cell_type": "code",
   "execution_count": 333,
   "id": "a5528649-6735-40b2-98f0-7392f37f622d",
   "metadata": {},
   "outputs": [
    {
     "data": {
      "text/plain": [
       "4"
      ]
     },
     "execution_count": 333,
     "metadata": {},
     "output_type": "execute_result"
    }
   ],
   "source": [
    "a2[1,0]"
   ]
  },
  {
   "cell_type": "code",
   "execution_count": 334,
   "id": "3f6c4186-793a-4b2e-bb4b-22d2cf5e642d",
   "metadata": {},
   "outputs": [
    {
     "data": {
      "text/plain": [
       "array([[[0, 1],\n",
       "        [2, 3]],\n",
       "\n",
       "       [[4, 5],\n",
       "        [6, 7]]])"
      ]
     },
     "execution_count": 334,
     "metadata": {},
     "output_type": "execute_result"
    }
   ],
   "source": [
    "a3"
   ]
  },
  {
   "cell_type": "code",
   "execution_count": 335,
   "id": "755b28cd-850d-4bbb-b4ec-ecbf34b06dcf",
   "metadata": {},
   "outputs": [
    {
     "data": {
      "text/plain": [
       "5"
      ]
     },
     "execution_count": 335,
     "metadata": {},
     "output_type": "execute_result"
    }
   ],
   "source": [
    "a3[1,0,1] # In this 3d tensor ,two 2D matrix(array) is present"
   ]
  },
  {
   "cell_type": "code",
   "execution_count": 336,
   "id": "d9aae6e7-aa4c-4386-954b-62d8dbfb8f18",
   "metadata": {},
   "outputs": [
    {
     "data": {
      "text/plain": [
       "2"
      ]
     },
     "execution_count": 336,
     "metadata": {},
     "output_type": "execute_result"
    }
   ],
   "source": [
    "a3[0,1,0] #In 4D array 4 numbers will provided"
   ]
  },
  {
   "cell_type": "code",
   "execution_count": 337,
   "id": "295d745f-f161-4b89-b555-18c58d3aacdc",
   "metadata": {},
   "outputs": [],
   "source": [
    "#By slicing we can access multiple items"
   ]
  },
  {
   "cell_type": "code",
   "execution_count": 338,
   "id": "28422aa6-b27a-4292-8d24-8ec4701b77f7",
   "metadata": {},
   "outputs": [
    {
     "data": {
      "text/plain": [
       "array([0, 1, 2, 3, 4, 5, 6, 7, 8, 9])"
      ]
     },
     "execution_count": 338,
     "metadata": {},
     "output_type": "execute_result"
    }
   ],
   "source": [
    "a1"
   ]
  },
  {
   "cell_type": "code",
   "execution_count": 339,
   "id": "4a4b64f5-32e1-4d41-b6b5-6378b181ef61",
   "metadata": {},
   "outputs": [
    {
     "data": {
      "text/plain": [
       "array([2, 3, 4])"
      ]
     },
     "execution_count": 339,
     "metadata": {},
     "output_type": "execute_result"
    }
   ],
   "source": [
    "a1[2:5] # last will be not included"
   ]
  },
  {
   "cell_type": "code",
   "execution_count": 340,
   "id": "f0181600-8e87-426b-aac4-d9cdc3367b7d",
   "metadata": {},
   "outputs": [
    {
     "data": {
      "text/plain": [
       "array([2, 4])"
      ]
     },
     "execution_count": 340,
     "metadata": {},
     "output_type": "execute_result"
    }
   ],
   "source": [
    "a1[2:5:2] "
   ]
  },
  {
   "cell_type": "code",
   "execution_count": 341,
   "id": "8c58f617-5156-4fb6-9337-e051b1faf24f",
   "metadata": {},
   "outputs": [
    {
     "data": {
      "text/plain": [
       "array([[ 0,  1,  2,  3],\n",
       "       [ 4,  5,  6,  7],\n",
       "       [ 8,  9, 10, 11]])"
      ]
     },
     "execution_count": 341,
     "metadata": {},
     "output_type": "execute_result"
    }
   ],
   "source": [
    "a2"
   ]
  },
  {
   "cell_type": "code",
   "execution_count": 342,
   "id": "7bdf5c96-70e5-4c8d-94f6-5870f09ad2f3",
   "metadata": {},
   "outputs": [
    {
     "data": {
      "text/plain": [
       "array([0, 1, 2, 3])"
      ]
     },
     "execution_count": 342,
     "metadata": {},
     "output_type": "execute_result"
    }
   ],
   "source": [
    "a2[0, :]"
   ]
  },
  {
   "cell_type": "code",
   "execution_count": 343,
   "id": "0e88a6a3-6943-419d-872a-fcf607922805",
   "metadata": {},
   "outputs": [
    {
     "data": {
      "text/plain": [
       "array([ 2,  6, 10])"
      ]
     },
     "execution_count": 343,
     "metadata": {},
     "output_type": "execute_result"
    }
   ],
   "source": [
    "# 3rd column, all rows\n",
    "a2[:,2]"
   ]
  },
  {
   "cell_type": "code",
   "execution_count": 344,
   "id": "260a9765-1ced-4f95-b14d-19eec29e394e",
   "metadata": {},
   "outputs": [
    {
     "data": {
      "text/plain": [
       "array([[ 5,  6],\n",
       "       [ 9, 10]])"
      ]
     },
     "execution_count": 344,
     "metadata": {},
     "output_type": "execute_result"
    }
   ],
   "source": [
    "# [[5,6],[9,10]]\n",
    "a2[1:3,1:3]  # last will be not included"
   ]
  },
  {
   "cell_type": "code",
   "execution_count": 345,
   "id": "0aec6f16-bb55-427b-b3ae-81d317141310",
   "metadata": {},
   "outputs": [
    {
     "data": {
      "text/plain": [
       "array([[ 0,  3],\n",
       "       [ 8, 11]])"
      ]
     },
     "execution_count": 345,
     "metadata": {},
     "output_type": "execute_result"
    }
   ],
   "source": [
    "# [[0,3],[8,11]]\n",
    "a2[::2,::3]\n",
    "\n",
    "# ::2 → Select every 2nd row (start:stop:step = start=0, stop=end, step=2).\n",
    "# ::3 → Select every 3rd column (start:stop:step = start=0, stop=end, step=3)."
   ]
  },
  {
   "cell_type": "code",
   "execution_count": 346,
   "id": "dde61a8b-5aa6-4fe5-b915-d7eefee642a0",
   "metadata": {},
   "outputs": [
    {
     "data": {
      "text/plain": [
       "array([[ 1,  2,  3],\n",
       "       [ 5,  6,  7],\n",
       "       [ 9, 10, 11]])"
      ]
     },
     "execution_count": 346,
     "metadata": {},
     "output_type": "execute_result"
    }
   ],
   "source": [
    "a2[0:4,1:4]"
   ]
  },
  {
   "cell_type": "code",
   "execution_count": 347,
   "id": "50787c23-751f-48a0-8839-071ce2bae754",
   "metadata": {},
   "outputs": [
    {
     "data": {
      "text/plain": [
       "array([[ 0,  1,  2,  3],\n",
       "       [ 4,  5,  6,  7],\n",
       "       [ 8,  9, 10, 11]])"
      ]
     },
     "execution_count": 347,
     "metadata": {},
     "output_type": "execute_result"
    }
   ],
   "source": [
    "a2"
   ]
  },
  {
   "cell_type": "code",
   "execution_count": 348,
   "id": "ca61468f-71d0-465a-93a3-f9181008d481",
   "metadata": {},
   "outputs": [
    {
     "data": {
      "text/plain": [
       "array([[ 1,  3],\n",
       "       [ 9, 11]])"
      ]
     },
     "execution_count": 348,
     "metadata": {},
     "output_type": "execute_result"
    }
   ],
   "source": [
    "a2[::2,1::2] # 1:2 means start at 2nd column and end at 3rd column\n",
    "             # 1::2 means start at 2nd column and end is last column,where step is 2"
   ]
  },
  {
   "cell_type": "code",
   "execution_count": 349,
   "id": "49b7cddf-9170-43f1-80c8-34c25a27534f",
   "metadata": {},
   "outputs": [
    {
     "data": {
      "text/plain": [
       "array([4, 7])"
      ]
     },
     "execution_count": 349,
     "metadata": {},
     "output_type": "execute_result"
    }
   ],
   "source": [
    "a2[1,::3]"
   ]
  },
  {
   "cell_type": "code",
   "execution_count": 350,
   "id": "b2712682-78a5-481f-8e25-c1fe2d9f3dfb",
   "metadata": {},
   "outputs": [
    {
     "data": {
      "text/plain": [
       "array([[1, 2, 3],\n",
       "       [5, 6, 7]])"
      ]
     },
     "execution_count": 350,
     "metadata": {},
     "output_type": "execute_result"
    }
   ],
   "source": [
    "a2[0:2,1:4]"
   ]
  },
  {
   "cell_type": "code",
   "execution_count": 351,
   "id": "d2b8aa9a-a964-4e72-8ae0-548f7b3df20b",
   "metadata": {},
   "outputs": [
    {
     "data": {
      "text/plain": [
       "array([[[ 0,  1,  2],\n",
       "        [ 3,  4,  5],\n",
       "        [ 6,  7,  8]],\n",
       "\n",
       "       [[ 9, 10, 11],\n",
       "        [12, 13, 14],\n",
       "        [15, 16, 17]],\n",
       "\n",
       "       [[18, 19, 20],\n",
       "        [21, 22, 23],\n",
       "        [24, 25, 26]]])"
      ]
     },
     "execution_count": 351,
     "metadata": {},
     "output_type": "execute_result"
    }
   ],
   "source": [
    "a3 = np.arange(27).reshape(3,3,3)\n",
    "a3  # a3 consist of three 2D arrays"
   ]
  },
  {
   "cell_type": "code",
   "execution_count": 352,
   "id": "38397906-e798-43d9-a099-bcec47c53a40",
   "metadata": {},
   "outputs": [
    {
     "data": {
      "text/plain": [
       "array([[ 9, 10, 11],\n",
       "       [12, 13, 14],\n",
       "       [15, 16, 17]])"
      ]
     },
     "execution_count": 352,
     "metadata": {},
     "output_type": "execute_result"
    }
   ],
   "source": [
    "a3[1]"
   ]
  },
  {
   "cell_type": "code",
   "execution_count": 353,
   "id": "c7dadd94-c2c4-4f37-a8da-f949bee52d7b",
   "metadata": {},
   "outputs": [
    {
     "data": {
      "text/plain": [
       "array([[[ 0,  1,  2],\n",
       "        [ 3,  4,  5],\n",
       "        [ 6,  7,  8]],\n",
       "\n",
       "       [[18, 19, 20],\n",
       "        [21, 22, 23],\n",
       "        [24, 25, 26]]])"
      ]
     },
     "execution_count": 353,
     "metadata": {},
     "output_type": "execute_result"
    }
   ],
   "source": [
    "a3[::2]"
   ]
  },
  {
   "cell_type": "code",
   "execution_count": 354,
   "id": "bc8137da-0591-44dc-a7aa-68e6536d8c14",
   "metadata": {},
   "outputs": [
    {
     "data": {
      "text/plain": [
       "array([3, 4, 5])"
      ]
     },
     "execution_count": 354,
     "metadata": {},
     "output_type": "execute_result"
    }
   ],
   "source": [
    "a3[0,1,:] #1st 2D array,2nd row and all column"
   ]
  },
  {
   "cell_type": "code",
   "execution_count": 355,
   "id": "309116b6-a26e-47aa-8c27-7ae533f287cc",
   "metadata": {},
   "outputs": [
    {
     "data": {
      "text/plain": [
       "array([10, 13, 16])"
      ]
     },
     "execution_count": 355,
     "metadata": {},
     "output_type": "execute_result"
    }
   ],
   "source": [
    "a3[1,:,1]  #2nd 2D array,all row and 2nd column"
   ]
  },
  {
   "cell_type": "code",
   "execution_count": 356,
   "id": "7fc121dc-7255-48a3-9281-cc97b949228b",
   "metadata": {},
   "outputs": [
    {
     "data": {
      "text/plain": [
       "array([[22, 23],\n",
       "       [25, 26]])"
      ]
     },
     "execution_count": 356,
     "metadata": {},
     "output_type": "execute_result"
    }
   ],
   "source": [
    "a3[2,1:3,1:3] # last will be excluded\n",
    "\n",
    "# OR, a3[2,1:,1:]"
   ]
  },
  {
   "cell_type": "code",
   "execution_count": 357,
   "id": "90e8d710-fcf7-4560-8be0-c5f5ef991892",
   "metadata": {},
   "outputs": [
    {
     "data": {
      "text/plain": [
       "array([[22, 23],\n",
       "       [25, 26]])"
      ]
     },
     "execution_count": 357,
     "metadata": {},
     "output_type": "execute_result"
    }
   ],
   "source": [
    "a3[2,1:,1:]"
   ]
  },
  {
   "cell_type": "code",
   "execution_count": 358,
   "id": "3a03f0c7-9875-428e-99ec-86724ff71482",
   "metadata": {},
   "outputs": [
    {
     "data": {
      "text/plain": [
       "array([[ 0,  2],\n",
       "       [18, 20]])"
      ]
     },
     "execution_count": 358,
     "metadata": {},
     "output_type": "execute_result"
    }
   ],
   "source": [
    "# [[ 0,  2],[18, 20]]\n",
    "\n",
    "a3[::2,0,::2] # TRICKY ! Solved without watching video"
   ]
  },
  {
   "cell_type": "markdown",
   "id": "6e015153-d5e2-4355-be2f-2e92330f13c7",
   "metadata": {},
   "source": [
    "# Iterating"
   ]
  },
  {
   "cell_type": "code",
   "execution_count": 359,
   "id": "817fa411-d053-48d1-a445-e4fbf3d59828",
   "metadata": {},
   "outputs": [
    {
     "name": "stdout",
     "output_type": "stream",
     "text": [
      "0\n",
      "1\n",
      "2\n",
      "3\n",
      "4\n",
      "5\n",
      "6\n",
      "7\n",
      "8\n",
      "9\n"
     ]
    }
   ],
   "source": [
    "a1\n",
    "\n",
    "for i in a1:\n",
    "    print(i)"
   ]
  },
  {
   "cell_type": "code",
   "execution_count": 360,
   "id": "3b22fe37-e18f-4f53-91ac-a6e6c2ba84d5",
   "metadata": {},
   "outputs": [
    {
     "name": "stdout",
     "output_type": "stream",
     "text": [
      "[0 1 2 3]\n",
      "[4 5 6 7]\n",
      "[ 8  9 10 11]\n"
     ]
    }
   ],
   "source": [
    "a2\n",
    "\n",
    "for i in a2:\n",
    "    print(i)  # print row [for 2D]"
   ]
  },
  {
   "cell_type": "code",
   "execution_count": 361,
   "id": "750ea7c6-13b5-4842-ac17-13363a0b5d9d",
   "metadata": {},
   "outputs": [
    {
     "name": "stdout",
     "output_type": "stream",
     "text": [
      "[[0 1 2]\n",
      " [3 4 5]\n",
      " [6 7 8]]\n",
      "[[ 9 10 11]\n",
      " [12 13 14]\n",
      " [15 16 17]]\n",
      "[[18 19 20]\n",
      " [21 22 23]\n",
      " [24 25 26]]\n"
     ]
    }
   ],
   "source": [
    "a3\n",
    "\n",
    "for i in a3:\n",
    "    print(i)   # print 2D array [for 3D]"
   ]
  },
  {
   "cell_type": "code",
   "execution_count": 362,
   "id": "2bb0e32e-1758-440b-b85a-66b0fa3b1815",
   "metadata": {},
   "outputs": [
    {
     "name": "stdout",
     "output_type": "stream",
     "text": [
      "0\n",
      "1\n",
      "2\n",
      "3\n",
      "4\n",
      "5\n",
      "6\n",
      "7\n",
      "8\n",
      "9\n",
      "10\n",
      "11\n",
      "12\n",
      "13\n",
      "14\n",
      "15\n",
      "16\n",
      "17\n",
      "18\n",
      "19\n",
      "20\n",
      "21\n",
      "22\n",
      "23\n",
      "24\n",
      "25\n",
      "26\n"
     ]
    }
   ],
   "source": [
    "# np.nditer\n",
    "\n",
    "for i in np.nditer(a3):\n",
    "    print(i)    # convert 3D into 1D and print every item"
   ]
  },
  {
   "cell_type": "markdown",
   "id": "a5c94493-c8c3-478a-a95d-721afbb10f82",
   "metadata": {},
   "source": [
    "# Reshaping"
   ]
  },
  {
   "cell_type": "code",
   "execution_count": 363,
   "id": "4d92c805-8410-47fc-9c82-a39330a32795",
   "metadata": {},
   "outputs": [
    {
     "data": {
      "text/plain": [
       "array([[ 0,  1,  2,  3],\n",
       "       [ 4,  5,  6,  7],\n",
       "       [ 8,  9, 10, 11]])"
      ]
     },
     "execution_count": 363,
     "metadata": {},
     "output_type": "execute_result"
    }
   ],
   "source": [
    "a2"
   ]
  },
  {
   "cell_type": "code",
   "execution_count": 364,
   "id": "7057492b-b736-4972-82b8-42540efd0f37",
   "metadata": {},
   "outputs": [
    {
     "data": {
      "text/plain": [
       "array([[ 0,  4,  8],\n",
       "       [ 1,  5,  9],\n",
       "       [ 2,  6, 10],\n",
       "       [ 3,  7, 11]])"
      ]
     },
     "execution_count": 364,
     "metadata": {},
     "output_type": "execute_result"
    }
   ],
   "source": [
    "# Transpose[row become column and column become row]\n",
    "np.transpose(a2)\n",
    "\n",
    "# OR, a2.T"
   ]
  },
  {
   "cell_type": "code",
   "execution_count": 365,
   "id": "442e92a2-6249-4943-a365-93510326bf89",
   "metadata": {},
   "outputs": [
    {
     "data": {
      "text/plain": [
       "array([[ 0,  4,  8],\n",
       "       [ 1,  5,  9],\n",
       "       [ 2,  6, 10],\n",
       "       [ 3,  7, 11]])"
      ]
     },
     "execution_count": 365,
     "metadata": {},
     "output_type": "execute_result"
    }
   ],
   "source": [
    "a2.T"
   ]
  },
  {
   "cell_type": "code",
   "execution_count": 366,
   "id": "e5411118-4c56-4d83-ae3b-fbbb0d656e93",
   "metadata": {},
   "outputs": [
    {
     "data": {
      "text/plain": [
       "array([ 0,  1,  2,  3,  4,  5,  6,  7,  8,  9, 10, 11])"
      ]
     },
     "execution_count": 366,
     "metadata": {},
     "output_type": "execute_result"
    }
   ],
   "source": [
    "# ravel[convert all arrays into 1D array]\n",
    "a2.ravel()"
   ]
  },
  {
   "cell_type": "code",
   "execution_count": 367,
   "id": "317d24eb-cdb5-44f2-9228-e17e99ac7546",
   "metadata": {},
   "outputs": [
    {
     "data": {
      "text/plain": [
       "array([ 0,  1,  2,  3,  4,  5,  6,  7,  8,  9, 10, 11, 12, 13, 14, 15, 16,\n",
       "       17, 18, 19, 20, 21, 22, 23, 24, 25, 26])"
      ]
     },
     "execution_count": 367,
     "metadata": {},
     "output_type": "execute_result"
    }
   ],
   "source": [
    "a3.ravel()"
   ]
  },
  {
   "cell_type": "markdown",
   "id": "97b40e05-a8ee-441b-90b6-6ab1b92abe9f",
   "metadata": {},
   "source": [
    "# Stacking"
   ]
  },
  {
   "cell_type": "code",
   "execution_count": 368,
   "id": "a213c448-e52a-4a85-9c77-ba8852a053e2",
   "metadata": {},
   "outputs": [
    {
     "data": {
      "text/plain": [
       "array([[ 0,  1,  2,  3, 12, 13, 14, 15],\n",
       "       [ 4,  5,  6,  7, 16, 17, 18, 19],\n",
       "       [ 8,  9, 10, 11, 20, 21, 22, 23]])"
      ]
     },
     "execution_count": 368,
     "metadata": {},
     "output_type": "execute_result"
    }
   ],
   "source": [
    "# horizontal stacking[in MATLAB: concatenation]\n",
    "\n",
    "\n",
    "a4 = np.arange(12).reshape(3,4)\n",
    "a5 = np.arange(12,24).reshape(3,4)\n",
    "np.hstack((a4, a5))"
   ]
  },
  {
   "cell_type": "code",
   "execution_count": 369,
   "id": "36308113-9894-4e78-9678-186ddf024971",
   "metadata": {},
   "outputs": [
    {
     "data": {
      "text/plain": [
       "array([[ 0,  1,  2,  3, 12, 13, 14, 15,  0,  1,  2,  3],\n",
       "       [ 4,  5,  6,  7, 16, 17, 18, 19,  4,  5,  6,  7],\n",
       "       [ 8,  9, 10, 11, 20, 21, 22, 23,  8,  9, 10, 11]])"
      ]
     },
     "execution_count": 369,
     "metadata": {},
     "output_type": "execute_result"
    }
   ],
   "source": [
    "np.hstack((a4, a5, a4))"
   ]
  },
  {
   "cell_type": "code",
   "execution_count": 370,
   "id": "182bfa01-b514-4e9c-acd4-b57dbd781fd2",
   "metadata": {},
   "outputs": [
    {
     "data": {
      "text/plain": [
       "array([[ 0,  1,  2,  3],\n",
       "       [ 4,  5,  6,  7],\n",
       "       [ 8,  9, 10, 11],\n",
       "       [12, 13, 14, 15],\n",
       "       [16, 17, 18, 19],\n",
       "       [20, 21, 22, 23]])"
      ]
     },
     "execution_count": 370,
     "metadata": {},
     "output_type": "execute_result"
    }
   ],
   "source": [
    "# vertical stacking\n",
    "np.vstack((a4,a5))"
   ]
  },
  {
   "cell_type": "code",
   "execution_count": 371,
   "id": "ad7bfee2-09d3-42c5-8d34-e08e0480d598",
   "metadata": {},
   "outputs": [
    {
     "data": {
      "text/plain": [
       "array([[1, 2, 3, 4],\n",
       "       [5, 6, 7, 8]])"
      ]
     },
     "execution_count": 371,
     "metadata": {},
     "output_type": "execute_result"
    }
   ],
   "source": [
    "a7 = np.array([[1,2,3,4],[5,6,7,8]])\n",
    "a7"
   ]
  },
  {
   "cell_type": "code",
   "execution_count": 372,
   "id": "273915fc-43a2-4c8d-8ab8-fbebc40c4aa4",
   "metadata": {},
   "outputs": [
    {
     "data": {
      "text/plain": [
       "array([ 9, 10, 11, 12])"
      ]
     },
     "execution_count": 372,
     "metadata": {},
     "output_type": "execute_result"
    }
   ],
   "source": [
    "a8 = np.array([9,10,11,12])\n",
    "a8"
   ]
  },
  {
   "cell_type": "code",
   "execution_count": 373,
   "id": "24c9401b-ea30-4873-94ef-403428d9430b",
   "metadata": {},
   "outputs": [
    {
     "data": {
      "text/plain": [
       "array([[ 1,  2,  3,  4],\n",
       "       [ 5,  6,  7,  8],\n",
       "       [ 9, 10, 11, 12]])"
      ]
     },
     "execution_count": 373,
     "metadata": {},
     "output_type": "execute_result"
    }
   ],
   "source": [
    "np.vstack((a7,a8))"
   ]
  },
  {
   "cell_type": "code",
   "execution_count": 374,
   "id": "8a86ecbe-182f-4766-ac49-d507ccf7ba4a",
   "metadata": {},
   "outputs": [],
   "source": [
    "# np.hstack((a7,a8)) ; not possible"
   ]
  },
  {
   "cell_type": "markdown",
   "id": "5fe4680d-ae13-4125-85d6-5bd13d8f72f1",
   "metadata": {},
   "source": [
    "# Splitting(opposite of stacking)"
   ]
  },
  {
   "cell_type": "code",
   "execution_count": 375,
   "id": "96c280ff-06a9-4f22-891a-f6ee3b01febe",
   "metadata": {},
   "outputs": [
    {
     "data": {
      "text/plain": [
       "array([[ 0,  1,  2,  3],\n",
       "       [ 4,  5,  6,  7],\n",
       "       [ 8,  9, 10, 11]])"
      ]
     },
     "execution_count": 375,
     "metadata": {},
     "output_type": "execute_result"
    }
   ],
   "source": [
    "a4"
   ]
  },
  {
   "cell_type": "code",
   "execution_count": 376,
   "id": "fde32cd7-524d-488d-a940-42bc1c288246",
   "metadata": {},
   "outputs": [
    {
     "data": {
      "text/plain": [
       "[array([[0, 1],\n",
       "        [4, 5],\n",
       "        [8, 9]]),\n",
       " array([[ 2,  3],\n",
       "        [ 6,  7],\n",
       "        [10, 11]])]"
      ]
     },
     "execution_count": 376,
     "metadata": {},
     "output_type": "execute_result"
    }
   ],
   "source": [
    "np.hsplit(a4,2) # 2 equal part"
   ]
  },
  {
   "cell_type": "code",
   "execution_count": 377,
   "id": "001e1f34-3164-4aa6-9a9e-8386fc132603",
   "metadata": {},
   "outputs": [
    {
     "data": {
      "text/plain": [
       "[array([[0],\n",
       "        [4],\n",
       "        [8]]),\n",
       " array([[1],\n",
       "        [5],\n",
       "        [9]]),\n",
       " array([[ 2],\n",
       "        [ 6],\n",
       "        [10]]),\n",
       " array([[ 3],\n",
       "        [ 7],\n",
       "        [11]])]"
      ]
     },
     "execution_count": 377,
     "metadata": {},
     "output_type": "execute_result"
    }
   ],
   "source": [
    "np.hsplit(a4,4) # 4 equal part"
   ]
  },
  {
   "cell_type": "code",
   "execution_count": 378,
   "id": "ba8a7d35-8901-439f-a134-311041ae4565",
   "metadata": {},
   "outputs": [],
   "source": [
    "# np.hsplit(a4,5) ; 5 equal part is not possible"
   ]
  },
  {
   "cell_type": "code",
   "execution_count": 379,
   "id": "b678a8c0-30e0-4a2b-a2a4-3babdd799d4c",
   "metadata": {},
   "outputs": [
    {
     "data": {
      "text/plain": [
       "array([[12, 13, 14, 15],\n",
       "       [16, 17, 18, 19],\n",
       "       [20, 21, 22, 23]])"
      ]
     },
     "execution_count": 379,
     "metadata": {},
     "output_type": "execute_result"
    }
   ],
   "source": [
    "a5"
   ]
  },
  {
   "cell_type": "code",
   "execution_count": 380,
   "id": "8be1c4ef-6157-4a1d-af13-a1e533912061",
   "metadata": {},
   "outputs": [
    {
     "data": {
      "text/plain": [
       "[array([[12, 13, 14, 15]]),\n",
       " array([[16, 17, 18, 19]]),\n",
       " array([[20, 21, 22, 23]])]"
      ]
     },
     "execution_count": 380,
     "metadata": {},
     "output_type": "execute_result"
    }
   ],
   "source": [
    "np.vsplit(a5,3)"
   ]
  },
  {
   "cell_type": "code",
   "execution_count": null,
   "id": "ba6c0067-495f-40fc-ac09-ef3f4392a1b9",
   "metadata": {},
   "outputs": [],
   "source": []
  },
  {
   "cell_type": "code",
   "execution_count": null,
   "id": "a39aa519-9c9a-4afe-b0c1-49ac81dc5bef",
   "metadata": {},
   "outputs": [],
   "source": []
  },
  {
   "cell_type": "code",
   "execution_count": null,
   "id": "42e86246-8b76-49c4-88dd-bc98b210fa6a",
   "metadata": {},
   "outputs": [],
   "source": []
  },
  {
   "cell_type": "markdown",
   "id": "a72ee4f6-c164-440d-b218-81185798da31",
   "metadata": {},
   "source": [
    "# Numpy array vs Python lists"
   ]
  },
  {
   "cell_type": "code",
   "execution_count": 381,
   "id": "4d06d8da-ea94-43b0-822c-a7b1f615706f",
   "metadata": {},
   "outputs": [],
   "source": [
    "# speed"
   ]
  },
  {
   "cell_type": "code",
   "execution_count": 382,
   "id": "89d89c56-8f1f-48e5-b402-ce78eae9589a",
   "metadata": {},
   "outputs": [
    {
     "name": "stdout",
     "output_type": "stream",
     "text": [
      "1.5815379619598389\n"
     ]
    }
   ],
   "source": [
    "# list [dynamic array, item saved in address]\n",
    "a = [i for i in range(10000000)]\n",
    "b = [i for i in range(10000000,20000000)]\n",
    "\n",
    "c = []\n",
    "import time\n",
    "\n",
    "start = time.time()\n",
    "for i in range(len(a)):\n",
    "    c.append(a[i] + b[i])\n",
    "print(time.time() - start)"
   ]
  },
  {
   "cell_type": "code",
   "execution_count": 383,
   "id": "ff9a2fce-0afb-4180-9b7a-f5acf0c190e6",
   "metadata": {},
   "outputs": [
    {
     "name": "stdout",
     "output_type": "stream",
     "text": [
      "0.11430191993713379\n"
     ]
    }
   ],
   "source": [
    "# numpy[use C type array --> static array, It's not a referential array, it is also convenient]\n",
    "a = np.arange(10000000)\n",
    "b = np.arange(10000000,20000000)\n",
    "\n",
    "start = time.time() # current time\n",
    "c = a + b\n",
    "print(time.time() - start)"
   ]
  },
  {
   "cell_type": "code",
   "execution_count": 384,
   "id": "358b3d4d-e3ac-44bb-a2ff-7fd6d864e6f8",
   "metadata": {},
   "outputs": [
    {
     "data": {
      "text/plain": [
       "89095160"
      ]
     },
     "execution_count": 384,
     "metadata": {},
     "output_type": "execute_result"
    }
   ],
   "source": [
    "# memory\n",
    "\n",
    "a = [i for i in range(10000000)]\n",
    "import sys\n",
    "sys.getsizeof(a)"
   ]
  },
  {
   "cell_type": "code",
   "execution_count": 385,
   "id": "e92a6b1a-e90e-4775-aed3-6d52fe955aec",
   "metadata": {},
   "outputs": [
    {
     "data": {
      "text/plain": [
       "10000112"
      ]
     },
     "execution_count": 385,
     "metadata": {},
     "output_type": "execute_result"
    }
   ],
   "source": [
    "a = np.arange(10000000, dtype= np.int8)\n",
    "sys.getsizeof(a)"
   ]
  },
  {
   "cell_type": "code",
   "execution_count": 386,
   "id": "909790e9-50db-4a67-8239-3821d5b9449b",
   "metadata": {},
   "outputs": [],
   "source": [
    "# convenience"
   ]
  },
  {
   "cell_type": "markdown",
   "id": "3aba1216-7d1d-4347-8d1d-7de3a886778a",
   "metadata": {},
   "source": [
    "# Advanced Indexing"
   ]
  },
  {
   "cell_type": "code",
   "execution_count": 387,
   "id": "e4d5b8d9-2187-44fb-806d-623aa0c5c7eb",
   "metadata": {},
   "outputs": [
    {
     "data": {
      "text/plain": [
       "array([[ 0,  1,  2],\n",
       "       [ 3,  4,  5],\n",
       "       [ 6,  7,  8],\n",
       "       [ 9, 10, 11]])"
      ]
     },
     "execution_count": 387,
     "metadata": {},
     "output_type": "execute_result"
    }
   ],
   "source": [
    "# Normal Indexing and Slicing\n",
    "\n",
    "a = np.arange(12).reshape(4,3)\n",
    "a"
   ]
  },
  {
   "cell_type": "code",
   "execution_count": 388,
   "id": "c0dc11f7-790a-46f8-961a-4593c89759bb",
   "metadata": {},
   "outputs": [
    {
     "data": {
      "text/plain": [
       "5"
      ]
     },
     "execution_count": 388,
     "metadata": {},
     "output_type": "execute_result"
    }
   ],
   "source": [
    "# indexing\n",
    "a[1,2]"
   ]
  },
  {
   "cell_type": "code",
   "execution_count": 389,
   "id": "b74dd246-9362-468b-a2a5-86203c37cce2",
   "metadata": {},
   "outputs": [
    {
     "data": {
      "text/plain": [
       "array([[4, 5],\n",
       "       [7, 8]])"
      ]
     },
     "execution_count": 389,
     "metadata": {},
     "output_type": "execute_result"
    }
   ],
   "source": [
    "# slicing\n",
    "a[1:3,1:3]"
   ]
  },
  {
   "cell_type": "code",
   "execution_count": 390,
   "id": "2a989d77-8efa-4bac-bdc3-a1089b75bd24",
   "metadata": {},
   "outputs": [
    {
     "data": {
      "text/plain": [
       "array([[ 0,  1,  2],\n",
       "       [ 3,  4,  5],\n",
       "       [ 6,  7,  8],\n",
       "       [ 9, 10, 11]])"
      ]
     },
     "execution_count": 390,
     "metadata": {},
     "output_type": "execute_result"
    }
   ],
   "source": [
    "# Fancy indexing\n",
    "\n",
    "a"
   ]
  },
  {
   "cell_type": "code",
   "execution_count": 391,
   "id": "ff7fd9a4-9bde-4120-89e7-212abba7598f",
   "metadata": {},
   "outputs": [
    {
     "data": {
      "text/plain": [
       "array([[ 0,  1,  2],\n",
       "       [ 6,  7,  8],\n",
       "       [ 9, 10, 11]])"
      ]
     },
     "execution_count": 391,
     "metadata": {},
     "output_type": "execute_result"
    }
   ],
   "source": [
    "# print 1st,3rd,4th row [by normal indexing it is not possible]\n",
    "\n",
    "a[[0,2,3]]"
   ]
  },
  {
   "cell_type": "code",
   "execution_count": 392,
   "id": "a8a9f183-75bb-4662-82da-5103d1421348",
   "metadata": {},
   "outputs": [
    {
     "data": {
      "text/plain": [
       "array([[ 0,  1,  2,  3],\n",
       "       [ 4,  5,  6,  7],\n",
       "       [ 8,  9, 10, 11],\n",
       "       [12, 13, 14, 15],\n",
       "       [16, 17, 18, 19],\n",
       "       [20, 21, 22, 23]])"
      ]
     },
     "execution_count": 392,
     "metadata": {},
     "output_type": "execute_result"
    }
   ],
   "source": [
    "a = np.arange(24).reshape(6,4)\n",
    "a"
   ]
  },
  {
   "cell_type": "code",
   "execution_count": 393,
   "id": "01771225-7b80-463d-ad02-e678f6942d2b",
   "metadata": {},
   "outputs": [
    {
     "data": {
      "text/plain": [
       "array([[ 0,  1,  2,  3],\n",
       "       [ 8,  9, 10, 11],\n",
       "       [12, 13, 14, 15],\n",
       "       [20, 21, 22, 23]])"
      ]
     },
     "execution_count": 393,
     "metadata": {},
     "output_type": "execute_result"
    }
   ],
   "source": [
    "a[[0,2,3,5]]"
   ]
  },
  {
   "cell_type": "code",
   "execution_count": 394,
   "id": "a4b2bf52-7691-436d-84b3-fd34f2bc246c",
   "metadata": {},
   "outputs": [
    {
     "data": {
      "text/plain": [
       "array([[ 0,  2,  3],\n",
       "       [ 4,  6,  7],\n",
       "       [ 8, 10, 11],\n",
       "       [12, 14, 15],\n",
       "       [16, 18, 19],\n",
       "       [20, 22, 23]])"
      ]
     },
     "execution_count": 394,
     "metadata": {},
     "output_type": "execute_result"
    }
   ],
   "source": [
    "# 1st,3rd and 4th column\n",
    "a[:,[0,2,3]]"
   ]
  },
  {
   "cell_type": "code",
   "execution_count": 395,
   "id": "83c25cb7-9f57-4e05-b22d-f7f39ad8ae15",
   "metadata": {},
   "outputs": [
    {
     "data": {
      "text/plain": [
       "array([[65, 30, 49, 61],\n",
       "       [ 7, 24, 63, 13],\n",
       "       [68, 46,  2, 86],\n",
       "       [43, 89,  4,  1],\n",
       "       [ 4, 16, 92,  2],\n",
       "       [18, 69, 37, 83]])"
      ]
     },
     "execution_count": 395,
     "metadata": {},
     "output_type": "execute_result"
    }
   ],
   "source": [
    "# Boolean Indexing\n",
    "a = np.random.randint(1,100,24).reshape(6,4)\n",
    "a"
   ]
  },
  {
   "cell_type": "code",
   "execution_count": 396,
   "id": "d3622c0c-de33-4811-b965-bac02898d548",
   "metadata": {},
   "outputs": [
    {
     "data": {
      "text/plain": [
       "array([[ True, False, False,  True],\n",
       "       [False, False,  True, False],\n",
       "       [ True, False, False,  True],\n",
       "       [False,  True, False, False],\n",
       "       [False, False,  True, False],\n",
       "       [False,  True, False,  True]])"
      ]
     },
     "execution_count": 396,
     "metadata": {},
     "output_type": "execute_result"
    }
   ],
   "source": [
    "# find all numbers greater than 50\n",
    "a > 50"
   ]
  },
  {
   "cell_type": "code",
   "execution_count": 397,
   "id": "fb55cbaa-6b1a-44c3-9e02-121d8a7725e6",
   "metadata": {},
   "outputs": [
    {
     "data": {
      "text/plain": [
       "array([65, 61, 63, 68, 86, 89, 92, 69, 83])"
      ]
     },
     "execution_count": 397,
     "metadata": {},
     "output_type": "execute_result"
    }
   ],
   "source": [
    "a[a > 50] # only stay the numbers which are greater than 50 "
   ]
  },
  {
   "cell_type": "code",
   "execution_count": 398,
   "id": "e3c13728-5e17-4105-b7c8-07e63680bf2c",
   "metadata": {},
   "outputs": [
    {
     "data": {
      "text/plain": [
       "array([30, 24, 68, 46,  2, 86,  4,  4, 16, 92,  2, 18])"
      ]
     },
     "execution_count": 398,
     "metadata": {},
     "output_type": "execute_result"
    }
   ],
   "source": [
    "# find out even number\n",
    "# and = & , or = |, not = ~\n",
    "a [ a % 2 == 0]"
   ]
  },
  {
   "cell_type": "code",
   "execution_count": 399,
   "id": "98adce5a-e0f1-4e60-90c9-4125bb4641fe",
   "metadata": {},
   "outputs": [
    {
     "data": {
      "text/plain": [
       "array([30, 24, 68, 46,  2, 86,  4,  4, 16, 92,  2, 18])"
      ]
     },
     "execution_count": 399,
     "metadata": {},
     "output_type": "execute_result"
    }
   ],
   "source": [
    "# find all numbers greater than 50 and are even\n",
    "a [ (a % 2) ==0 & (a > 50)]\n",
    "\n",
    "# and --> logical and\n",
    "# & --> bitwise and [used when work with boolean values]"
   ]
  },
  {
   "cell_type": "code",
   "execution_count": 400,
   "id": "63dbd1e5-9656-4c62-b67a-9d3fdda1fd44",
   "metadata": {},
   "outputs": [
    {
     "data": {
      "text/plain": [
       "array([49,  7, 63])"
      ]
     },
     "execution_count": 400,
     "metadata": {},
     "output_type": "execute_result"
    }
   ],
   "source": [
    "# find all numbers  divisible by 7\n",
    "a[ a % 7 == 0 ]"
   ]
  },
  {
   "cell_type": "code",
   "execution_count": 401,
   "id": "ad06c1cd-77df-476b-8977-fc3c2634598e",
   "metadata": {},
   "outputs": [
    {
     "data": {
      "text/plain": [
       "array([65, 30, 61, 24, 13, 68, 46,  2, 86, 43, 89,  4,  1,  4, 16, 92,  2,\n",
       "       18, 69, 37, 83])"
      ]
     },
     "execution_count": 401,
     "metadata": {},
     "output_type": "execute_result"
    }
   ],
   "source": [
    "# find all numbers not  divisible by 7\n",
    "a[~( a % 7 == 0 )]"
   ]
  },
  {
   "cell_type": "markdown",
   "id": "38272a31-ba04-4cc3-bb77-33f42111d618",
   "metadata": {},
   "source": [
    "# Broadcasting\n",
    "The term broadcasting describes how NumPy treats array with different shapes during arithmetic operations.\n",
    "The smaller array is \"broadcast\" across the larger array so that they have compatible shapes."
   ]
  },
  {
   "cell_type": "code",
   "execution_count": 402,
   "id": "fb76b3a3-6e31-4182-990b-033206003047",
   "metadata": {},
   "outputs": [
    {
     "name": "stdout",
     "output_type": "stream",
     "text": [
      "[[0 1 2]\n",
      " [3 4 5]]\n",
      "[[ 6  7  8]\n",
      " [ 9 10 11]]\n",
      "[[ 6  8 10]\n",
      " [12 14 16]]\n"
     ]
    }
   ],
   "source": [
    "# same shape\n",
    "a = np.arange(6).reshape(2,3)\n",
    "b = np.arange(6,12).reshape(2,3)\n",
    "\n",
    "print(a)\n",
    "print(b)\n",
    "\n",
    "print(a + b) # Itemwise addition"
   ]
  },
  {
   "cell_type": "code",
   "execution_count": 403,
   "id": "c9b34fd5-3dc0-4b0c-b936-b860ed4a6a70",
   "metadata": {},
   "outputs": [
    {
     "name": "stdout",
     "output_type": "stream",
     "text": [
      "[[0 1 2]\n",
      " [3 4 5]]\n",
      "[[0 1 2]]\n",
      "[[0 2 4]\n",
      " [3 5 7]]\n"
     ]
    }
   ],
   "source": [
    "# different shape\n",
    "a = np.arange(6).reshape(2,3)\n",
    "b = np.arange(3).reshape(1,3)\n",
    "\n",
    "print(a)\n",
    "print(b)\n",
    "\n",
    "print(a + b) # It's also possible"
   ]
  },
  {
   "cell_type": "markdown",
   "id": "961e197e-3a52-4faa-bd99-8526a3733ecb",
   "metadata": {},
   "source": [
    "#### Broadcasting Rules\n",
    "\n",
    "**1. Make the two arrays have the same number of dimensions.**<br>\n",
    "- If the numbers of dimensions of the two arrays are different, add new dimensions with size 1 to the head of the array with the smaller dimension.<br>"
   ]
  },
  {
   "cell_type": "markdown",
   "id": "a524e419-51f0-441d-8a58-ff1d901959e8",
   "metadata": {},
   "source": [
    "**2. Make each dimension of the two arrays the same size.**<br>\n",
    "- If the sizes of each dimension of the two arrays do not match, dimensions with size 1 are stretched to the size of the other array.\n",
    "- If there is a dimension whose size is not 1 in either of the two arrays, it cannot be broadcasted, and an error is raised."
   ]
  },
  {
   "cell_type": "markdown",
   "id": "726d9cc6-8cc4-4f4b-b44f-58edc3a9516b",
   "metadata": {},
   "source": [
    "<img src = \"https://jakevdp.github.io/PythonDataScienceHandbook/figures/02.05-broadcasting.png\">"
   ]
  },
  {
   "cell_type": "code",
   "execution_count": 404,
   "id": "e8f69602-6169-44e3-972f-988016b39a6d",
   "metadata": {},
   "outputs": [
    {
     "name": "stdout",
     "output_type": "stream",
     "text": [
      "[[ 0  1  2]\n",
      " [ 3  4  5]\n",
      " [ 6  7  8]\n",
      " [ 9 10 11]]\n",
      "[0 1 2]\n",
      "[[ 0  2  4]\n",
      " [ 3  5  7]\n",
      " [ 6  8 10]\n",
      " [ 9 11 13]]\n"
     ]
    }
   ],
   "source": [
    "# More examples\n",
    "\n",
    "a = np.arange(12).reshape(4,3)\n",
    "b = np.arange(3)\n",
    "\n",
    "print(a)\n",
    "print(b)\n",
    "\n",
    "print(a + b)"
   ]
  },
  {
   "cell_type": "code",
   "execution_count": 405,
   "id": "2a4132e4-e184-468c-812f-3a7984881254",
   "metadata": {},
   "outputs": [],
   "source": [
    "# a = np.arange(12).reshape(3,4)\n",
    "# b = np.arange(3)\n",
    "\n",
    "# b[3 row] --> b(1,3) --> b[3,3] which is not equal a[3,4] in dimension,so a+b is not possible;broadcast not possible\n",
    "# if b is converted to [3,4] then a + b was possible"
   ]
  },
  {
   "cell_type": "code",
   "execution_count": 406,
   "id": "ba671a11-4f13-4e74-b863-abcd1eab3dea",
   "metadata": {},
   "outputs": [
    {
     "name": "stdout",
     "output_type": "stream",
     "text": [
      "[[0 1 2]]\n",
      "[[0]\n",
      " [1]\n",
      " [2]]\n",
      "[[0 1 2]\n",
      " [1 2 3]\n",
      " [2 3 4]]\n"
     ]
    }
   ],
   "source": [
    "# shape is same [2D]\n",
    "a = np.arange(3).reshape(1,3)\n",
    "b = np.arange(3).reshape(3,1)\n",
    "\n",
    "print(a)\n",
    "print(b)\n",
    "\n",
    "print(a + b)"
   ]
  },
  {
   "cell_type": "code",
   "execution_count": 407,
   "id": "c33aca71-25c3-40fd-b23e-449eae083635",
   "metadata": {},
   "outputs": [
    {
     "name": "stdout",
     "output_type": "stream",
     "text": [
      "[[0 1 2]]\n",
      "[[0]\n",
      " [1]\n",
      " [2]\n",
      " [3]]\n",
      "[[0 1 2]\n",
      " [1 2 3]\n",
      " [2 3 4]\n",
      " [3 4 5]]\n"
     ]
    }
   ],
   "source": [
    "a = np.arange(3).reshape(1,3) # 1 is converted to another array's row or columns number\n",
    "             #[1,3] --> [4,3]    # if 1 is present in row then row is changed by another array\n",
    "                                 # if 1 is present in column then column is changed by another array\n",
    "\n",
    "b = np.arange(4).reshape(4,1)\n",
    "            #[4,1] --> [4,3]\n",
    "print(a)\n",
    "print(b)\n",
    "\n",
    "print(a + b)"
   ]
  },
  {
   "cell_type": "code",
   "execution_count": 408,
   "id": "4ec536df-e772-4b11-961b-257770ec8e9e",
   "metadata": {},
   "outputs": [
    {
     "name": "stdout",
     "output_type": "stream",
     "text": [
      "[1]\n",
      "[[0 1]\n",
      " [2 3]]\n",
      "[[1 2]\n",
      " [3 4]]\n"
     ]
    }
   ],
   "source": [
    "# (2,2) --> 2D ; (1) -->1D become (1,1) -->2D then (1,1) converted to (2,2)\n",
    "\n",
    "a = np.array([1])\n",
    "# shape -> (1,1)\n",
    "b = np.arange(4).reshape(2,2)\n",
    "# shape -> (2,2)\n",
    "\n",
    "print(a)\n",
    "print(b)\n",
    "\n",
    "print(a + b)"
   ]
  },
  {
   "cell_type": "code",
   "execution_count": 409,
   "id": "c04c7f8d-69f3-431c-8b64-1fb4c116abda",
   "metadata": {},
   "outputs": [
    {
     "name": "stdout",
     "output_type": "stream",
     "text": [
      "[[ 0  1  2  3]\n",
      " [ 4  5  6  7]\n",
      " [ 8  9 10 11]]\n",
      "[[ 0  1  2]\n",
      " [ 3  4  5]\n",
      " [ 6  7  8]\n",
      " [ 9 10 11]]\n"
     ]
    }
   ],
   "source": [
    "a = np.arange(12).reshape(3,4)\n",
    "b = np.arange(12).reshape(4,3)\n",
    "\n",
    "print(a)\n",
    "print(b)\n",
    "# print(a + b) ; not possible"
   ]
  },
  {
   "cell_type": "code",
   "execution_count": 410,
   "id": "461d8620-e0db-4a7a-a44f-7f783546588f",
   "metadata": {},
   "outputs": [
    {
     "name": "stdout",
     "output_type": "stream",
     "text": [
      "[[ 0  1  2  3]\n",
      " [ 4  5  6  7]\n",
      " [ 8  9 10 11]\n",
      " [12 13 14 15]]\n",
      "[[0 1]\n",
      " [2 3]]\n"
     ]
    }
   ],
   "source": [
    "a = np.arange(16).reshape(4,4)\n",
    "b = np.arange(4).reshape(2,2)\n",
    "\n",
    "print(a)\n",
    "print(b)\n",
    "\n",
    "# print(a + b) ; not possible"
   ]
  },
  {
   "cell_type": "markdown",
   "id": "6a233be3-52b2-437d-b5df-e65a7ab00cf9",
   "metadata": {},
   "source": [
    "# Working with mathematical formulas"
   ]
  },
  {
   "cell_type": "code",
   "execution_count": 411,
   "id": "540a384a-7e03-46c8-a241-bfd2a5e0ed36",
   "metadata": {},
   "outputs": [
    {
     "data": {
      "text/plain": [
       "45"
      ]
     },
     "execution_count": 411,
     "metadata": {},
     "output_type": "execute_result"
    }
   ],
   "source": [
    "a = np.arange(10)\n",
    "np.sum(a)"
   ]
  },
  {
   "cell_type": "code",
   "execution_count": 412,
   "id": "b27a54cd-79fa-461d-936a-167fb90441f2",
   "metadata": {},
   "outputs": [
    {
     "data": {
      "text/plain": [
       "array([ 0.        ,  0.84147098,  0.90929743,  0.14112001, -0.7568025 ,\n",
       "       -0.95892427, -0.2794155 ,  0.6569866 ,  0.98935825,  0.41211849])"
      ]
     },
     "execution_count": 412,
     "metadata": {},
     "output_type": "execute_result"
    }
   ],
   "source": [
    "np.sin(a)"
   ]
  },
  {
   "cell_type": "code",
   "execution_count": null,
   "id": "660d5452-929a-4041-b68b-a42d1483da0e",
   "metadata": {},
   "outputs": [],
   "source": []
  },
  {
   "cell_type": "code",
   "execution_count": 413,
   "id": "cfe4f135-92a2-4155-819a-17461c8a9581",
   "metadata": {},
   "outputs": [],
   "source": [
    "# sigmoid"
   ]
  },
  {
   "cell_type": "markdown",
   "id": "056300f1-34e2-4ab1-812a-4ed5501e1d33",
   "metadata": {},
   "source": [
    "<img src=\"https://www.gstatic.com/education/formulas2/553212783/en/sigmoid_function.svg\">"
   ]
  },
  {
   "cell_type": "code",
   "execution_count": 414,
   "id": "8c937433-a2c6-484c-9731-f1bdef2fa861",
   "metadata": {},
   "outputs": [
    {
     "data": {
      "text/plain": [
       "array([0.5       , 0.73105858, 0.88079708, 0.95257413, 0.98201379,\n",
       "       0.99330715, 0.99752738, 0.99908895, 0.99966465, 0.99987661])"
      ]
     },
     "execution_count": 414,
     "metadata": {},
     "output_type": "execute_result"
    }
   ],
   "source": [
    "def sigmoid(array):\n",
    "    return 1/(1 + np.exp(-array))\n",
    "\n",
    "\n",
    "a = np.arange(10)\n",
    "\n",
    "sigmoid(a)  \n"
   ]
  },
  {
   "cell_type": "code",
   "execution_count": null,
   "id": "21a4f0fb-7a3b-4856-bf5b-63c89c67d98b",
   "metadata": {},
   "outputs": [],
   "source": []
  },
  {
   "cell_type": "code",
   "execution_count": 415,
   "id": "ba6531dc-82b3-43cd-ab8e-44b6fe0d15bf",
   "metadata": {},
   "outputs": [],
   "source": [
    "# mean squared error"
   ]
  },
  {
   "cell_type": "markdown",
   "id": "33569974-b1f0-40c0-9e39-6b2b4043df83",
   "metadata": {},
   "source": [
    "<img src=\"https://www.gstatic.com/education/formulas2/553212783/en/mean_squared_error.svg\">"
   ]
  },
  {
   "cell_type": "markdown",
   "id": "7c920ab0-6581-4b67-b677-5ac0837345c3",
   "metadata": {},
   "source": [
    "* MSE\t=\tmean squared error\n",
    "* n\t=\tnumber of data points\n",
    "* Y_{i}\t=\tobserved values\n",
    "* hat{Y}_{i}\t=\tpredicted values"
   ]
  },
  {
   "cell_type": "code",
   "execution_count": 416,
   "id": "cd4d2267-a5dd-489d-9c4f-3256f5f19f00",
   "metadata": {},
   "outputs": [],
   "source": [
    "actual = np.random.randint(1,50,25)\n",
    "predicted = np.random.randint(1,50,25)"
   ]
  },
  {
   "cell_type": "code",
   "execution_count": 417,
   "id": "358fa0b0-0bdb-43d4-83b7-6c54ad6ae742",
   "metadata": {},
   "outputs": [
    {
     "data": {
      "text/plain": [
       "array([ 7, 27,  5, 21, 28, 36, 16, 42, 29, 19, 29, 24, 43, 47, 43, 43,  3,\n",
       "       21, 16, 34, 39, 13, 36, 49, 34])"
      ]
     },
     "execution_count": 417,
     "metadata": {},
     "output_type": "execute_result"
    }
   ],
   "source": [
    "predicted"
   ]
  },
  {
   "cell_type": "code",
   "execution_count": 418,
   "id": "e9dc74a9-39e1-4977-a6bb-945e59a4a7b5",
   "metadata": {},
   "outputs": [
    {
     "data": {
      "text/plain": [
       "array([45, 18,  4, 11, 49, 29, 47,  8, 49, 33, 25, 35, 20, 46, 39, 10, 33,\n",
       "       17, 30, 37, 20, 29, 22, 20, 49])"
      ]
     },
     "execution_count": 418,
     "metadata": {},
     "output_type": "execute_result"
    }
   ],
   "source": [
    "actual"
   ]
  },
  {
   "cell_type": "code",
   "execution_count": 419,
   "id": "a3db5284-a891-406b-9ee5-8e6353d14042",
   "metadata": {},
   "outputs": [
    {
     "data": {
      "text/plain": [
       "array([1444,   81,    1,  100,  441,   49,  961, 1156,  400,  196,   16,\n",
       "        121,  529,    1,   16, 1089,  900,   16,  196,    9,  361,  256,\n",
       "        196,  841,  225])"
      ]
     },
     "execution_count": 419,
     "metadata": {},
     "output_type": "execute_result"
    }
   ],
   "source": [
    "(actual - predicted)**2"
   ]
  },
  {
   "cell_type": "code",
   "execution_count": 420,
   "id": "bc5982b9-4a2b-446f-b8f6-ac51dc582906",
   "metadata": {},
   "outputs": [
    {
     "data": {
      "text/plain": [
       "384.04"
      ]
     },
     "execution_count": 420,
     "metadata": {},
     "output_type": "execute_result"
    }
   ],
   "source": [
    "np.mean((actual - predicted)**2)"
   ]
  },
  {
   "cell_type": "code",
   "execution_count": 421,
   "id": "93111955-fdeb-47ce-b7ac-da1c632168c0",
   "metadata": {},
   "outputs": [
    {
     "data": {
      "text/plain": [
       "384.04"
      ]
     },
     "execution_count": 421,
     "metadata": {},
     "output_type": "execute_result"
    }
   ],
   "source": [
    "# Mean squared error \n",
    "def mse(actual, predicted):\n",
    "    return np.mean((actual - predicted)**2)\n",
    "\n",
    "mse(actual,predicted)"
   ]
  },
  {
   "cell_type": "code",
   "execution_count": 422,
   "id": "a547becd-1eee-4084-8f45-ae51e10f1fca",
   "metadata": {},
   "outputs": [],
   "source": [
    "# binary cross entropy"
   ]
  },
  {
   "cell_type": "code",
   "execution_count": null,
   "id": "245439ef-461a-45b0-927f-b37f90f0e603",
   "metadata": {},
   "outputs": [],
   "source": []
  },
  {
   "cell_type": "markdown",
   "id": "afc23cbe-d5c2-472d-bb06-d259f597fabf",
   "metadata": {},
   "source": [
    "# Working with missing values"
   ]
  },
  {
   "cell_type": "code",
   "execution_count": 423,
   "id": "fbf2e779-e5e7-4109-b85c-6e3e318d0f45",
   "metadata": {},
   "outputs": [
    {
     "data": {
      "text/plain": [
       "array([ 1.,  2.,  3.,  4., nan,  6.])"
      ]
     },
     "execution_count": 423,
     "metadata": {},
     "output_type": "execute_result"
    }
   ],
   "source": [
    "a = np.array([1,2,3,4,np.nan,6])\n",
    "a"
   ]
  },
  {
   "cell_type": "code",
   "execution_count": 424,
   "id": "917ec092-31d4-47e0-bb86-a4641c906a1f",
   "metadata": {},
   "outputs": [
    {
     "data": {
      "text/plain": [
       "array([nan])"
      ]
     },
     "execution_count": 424,
     "metadata": {},
     "output_type": "execute_result"
    }
   ],
   "source": [
    "a[np.isnan(a)]"
   ]
  },
  {
   "cell_type": "code",
   "execution_count": 425,
   "id": "968d478f-95a6-409e-84f9-e97bc5d71868",
   "metadata": {},
   "outputs": [
    {
     "data": {
      "text/plain": [
       "array([1., 2., 3., 4., 6.])"
      ]
     },
     "execution_count": 425,
     "metadata": {},
     "output_type": "execute_result"
    }
   ],
   "source": [
    "a[~(np.isnan(a))]"
   ]
  },
  {
   "cell_type": "markdown",
   "id": "cf4e6d8f-c61f-4883-9c4a-9e3f27812595",
   "metadata": {},
   "source": [
    "# Plotting Graphs"
   ]
  },
  {
   "cell_type": "code",
   "execution_count": 426,
   "id": "15ec274d-9783-4a8f-8743-7e4a977abdcd",
   "metadata": {},
   "outputs": [
    {
     "data": {
      "text/plain": [
       "[<matplotlib.lines.Line2D at 0x15204cb8e00>]"
      ]
     },
     "execution_count": 426,
     "metadata": {},
     "output_type": "execute_result"
    },
    {
     "data": {
      "image/png": "[encoded data removed]",
      "text/plain": [
       "<Figure size 640x480 with 1 Axes>"
      ]
     },
     "metadata": {},
     "output_type": "display_data"
    }
   ],
   "source": [
    "# plotting a 2D plot\n",
    "# x = y\n",
    "\n",
    "import matplotlib.pyplot as plt\n",
    "\n",
    "x = np.linspace(-10,10,100)\n",
    "y = x\n",
    "plt.plot(x, y)"
   ]
  },
  {
   "cell_type": "code",
   "execution_count": 427,
   "id": "38db23db-d953-42d3-8ad6-5d03d1d366b5",
   "metadata": {},
   "outputs": [
    {
     "data": {
      "text/plain": [
       "[<matplotlib.lines.Line2D at 0x1523443dc40>]"
      ]
     },
     "execution_count": 427,
     "metadata": {},
     "output_type": "execute_result"
    },
    {
     "data": {
      "image/png": "[encoded data removed]",
      "text/plain": [
       "<Figure size 640x480 with 1 Axes>"
      ]
     },
     "metadata": {},
     "output_type": "display_data"
    }
   ],
   "source": [
    "# y = x^2\n",
    "\n",
    "x = np.linspace(-10,10,100)\n",
    "y = x**2\n",
    "\n",
    "plt.plot(x,y)"
   ]
  },
  {
   "cell_type": "code",
   "execution_count": 428,
   "id": "bf081498-5b99-40eb-b9c9-9330f91e2aa9",
   "metadata": {},
   "outputs": [
    {
     "data": {
      "text/plain": [
       "[<matplotlib.lines.Line2D at 0x1523439f5c0>]"
      ]
     },
     "execution_count": 428,
     "metadata": {},
     "output_type": "execute_result"
    },
    {
     "data": {
      "image/png": "[encoded data removed]",
      "text/plain": [
       "<Figure size 640x480 with 1 Axes>"
      ]
     },
     "metadata": {},
     "output_type": "display_data"
    }
   ],
   "source": [
    "# y = sin(x)\n",
    "\n",
    "x = np.linspace(-10,10,100)\n",
    "y = np.sin(x)\n",
    "\n",
    "plt.plot(x, y)"
   ]
  },
  {
   "cell_type": "code",
   "execution_count": 429,
   "id": "8e98a6d3-de62-4b5f-bade-9cba63c6a2c7",
   "metadata": {},
   "outputs": [
    {
     "name": "stderr",
     "output_type": "stream",
     "text": [
      "C:\\Users\\USER\\AppData\\Local\\Temp\\ipykernel_5824\\3923043207.py:4: RuntimeWarning: invalid value encountered in log\n",
      "  y = x * np.log(x)\n"
     ]
    },
    {
     "data": {
      "text/plain": [
       "[<matplotlib.lines.Line2D at 0x1524ce672c0>]"
      ]
     },
     "execution_count": 429,
     "metadata": {},
     "output_type": "execute_result"
    },
    {
     "data": {
      "image/png": "[encoded data removed]",
      "text/plain": [
       "<Figure size 640x480 with 1 Axes>"
      ]
     },
     "metadata": {},
     "output_type": "display_data"
    }
   ],
   "source": [
    "# y = x log(x)\n",
    "\n",
    "x = np.linspace(-10,10,100)\n",
    "y = x * np.log(x)\n",
    "\n",
    "plt.plot(x, y)"
   ]
  },
  {
   "cell_type": "code",
   "execution_count": 430,
   "id": "20f0748f-cd20-4725-a11c-68cdd794b5ae",
   "metadata": {},
   "outputs": [
    {
     "data": {
      "text/plain": [
       "[<matplotlib.lines.Line2D at 0x1524cedaa80>]"
      ]
     },
     "execution_count": 430,
     "metadata": {},
     "output_type": "execute_result"
    },
    {
     "data": {
      "image/png": "[encoded data removed]",
      "text/plain": [
       "<Figure size 640x480 with 1 Axes>"
      ]
     },
     "metadata": {},
     "output_type": "display_data"
    }
   ],
   "source": [
    "# graph of sigmoid\n",
    "x = np.linspace(-10,10,100)\n",
    "y = 1/(1 + np.exp(-x))\n",
    "\n",
    "plt.plot(x, y)"
   ]
  },
  {
   "cell_type": "markdown",
   "id": "24723542-428c-462b-ac87-30bde6b6b7a6",
   "metadata": {},
   "source": [
    "### np.sort\n",
    "\n",
    "Return a sorted copy of an array.\n",
    "\n",
    "https://numpy.org/doc/stable/reference/generated/numpy.sort.html"
   ]
  },
  {
   "cell_type": "code",
   "execution_count": 431,
   "id": "ad8dde0a-1369-43e8-a46b-94b5a2fb4458",
   "metadata": {},
   "outputs": [
    {
     "data": {
      "text/plain": [
       "array([12, 48, 33, 23, 44, 73,  7,  9, 54, 69, 18, 25, 97, 76, 24])"
      ]
     },
     "execution_count": 431,
     "metadata": {},
     "output_type": "execute_result"
    }
   ],
   "source": [
    "# code\n",
    "\n",
    "a = np.random.randint(1, 100, 15)\n",
    "a"
   ]
  },
  {
   "cell_type": "code",
   "execution_count": 432,
   "id": "583caa5c-5bf7-4f5d-b255-c4830acb8021",
   "metadata": {},
   "outputs": [
    {
     "data": {
      "text/plain": [
       "array([ 7,  9, 12, 18, 23, 24, 25, 33, 44, 48, 54, 69, 73, 76, 97])"
      ]
     },
     "execution_count": 432,
     "metadata": {},
     "output_type": "execute_result"
    }
   ],
   "source": [
    "np.sort(a)"
   ]
  },
  {
   "cell_type": "code",
   "execution_count": 433,
   "id": "debcac04-14b3-4181-b2f4-055c9ec7edde",
   "metadata": {},
   "outputs": [
    {
     "data": {
      "text/plain": [
       "array([[94, 43,  5, 96],\n",
       "       [22, 89, 37, 93],\n",
       "       [30, 26, 32, 17],\n",
       "       [76, 11, 71, 52],\n",
       "       [44, 56, 66, 10],\n",
       "       [65, 38, 99, 91]])"
      ]
     },
     "execution_count": 433,
     "metadata": {},
     "output_type": "execute_result"
    }
   ],
   "source": [
    "b = np.random.randint(1,100,24).reshape(6, 4)\n",
    "b"
   ]
  },
  {
   "cell_type": "code",
   "execution_count": 434,
   "id": "76da7914-2665-439b-a0dd-cd202ccf912c",
   "metadata": {},
   "outputs": [
    {
     "data": {
      "text/plain": [
       "array([[ 5, 43, 94, 96],\n",
       "       [22, 37, 89, 93],\n",
       "       [17, 26, 30, 32],\n",
       "       [11, 52, 71, 76],\n",
       "       [10, 44, 56, 66],\n",
       "       [38, 65, 91, 99]])"
      ]
     },
     "execution_count": 434,
     "metadata": {},
     "output_type": "execute_result"
    }
   ],
   "source": [
    "np.sort(b) # sorting row-wise"
   ]
  },
  {
   "cell_type": "code",
   "execution_count": 435,
   "id": "5ee6d4e3-6847-4895-8431-d74656fd83cc",
   "metadata": {},
   "outputs": [
    {
     "data": {
      "text/plain": [
       "array([[22, 11,  5, 10],\n",
       "       [30, 26, 32, 17],\n",
       "       [44, 38, 37, 52],\n",
       "       [65, 43, 66, 91],\n",
       "       [76, 56, 71, 93],\n",
       "       [94, 89, 99, 96]])"
      ]
     },
     "execution_count": 435,
     "metadata": {},
     "output_type": "execute_result"
    }
   ],
   "source": [
    "np.sort(b, axis= 0)   # sorting column-wise"
   ]
  },
  {
   "cell_type": "code",
   "execution_count": 436,
   "id": "d521724f-6e7c-414d-b013-186646b6b73b",
   "metadata": {},
   "outputs": [
    {
     "data": {
      "text/plain": [
       "array([97, 76, 73, 69, 54, 48, 44, 33, 25, 24, 23, 18, 12,  9,  7])"
      ]
     },
     "execution_count": 436,
     "metadata": {},
     "output_type": "execute_result"
    }
   ],
   "source": [
    "# descending order\n",
    "np.sort(a)[::-1]"
   ]
  },
  {
   "cell_type": "markdown",
   "id": "6591d52b-4bbd-4a85-9d9c-a312c4b52fcd",
   "metadata": {},
   "source": [
    "### np.append\n",
    "\n",
    "The numpy.append() appends values along the mentioned axis at the end of the array\n",
    "\n",
    "https://numpy.org/doc/stable/reference/generated/numpy.append.html"
   ]
  },
  {
   "cell_type": "code",
   "execution_count": 437,
   "id": "02664b49-7dc4-47de-ad28-c4a04efcec39",
   "metadata": {},
   "outputs": [
    {
     "data": {
      "text/plain": [
       "array([ 12,  48,  33,  23,  44,  73,   7,   9,  54,  69,  18,  25,  97,\n",
       "        76,  24, 200])"
      ]
     },
     "execution_count": 437,
     "metadata": {},
     "output_type": "execute_result"
    }
   ],
   "source": [
    "np.append(a, 200)"
   ]
  },
  {
   "cell_type": "code",
   "execution_count": 438,
   "id": "c985e645-1321-4d4d-80f9-fd84f898bdc4",
   "metadata": {},
   "outputs": [
    {
     "data": {
      "text/plain": [
       "array([[94, 43,  5, 96],\n",
       "       [22, 89, 37, 93],\n",
       "       [30, 26, 32, 17],\n",
       "       [76, 11, 71, 52],\n",
       "       [44, 56, 66, 10],\n",
       "       [65, 38, 99, 91]])"
      ]
     },
     "execution_count": 438,
     "metadata": {},
     "output_type": "execute_result"
    }
   ],
   "source": [
    "b"
   ]
  },
  {
   "cell_type": "code",
   "execution_count": 439,
   "id": "33b6420e-59b7-47d2-982c-ac9312e2c132",
   "metadata": {},
   "outputs": [
    {
     "data": {
      "text/plain": [
       "array([[94, 43,  5, 96,  1],\n",
       "       [22, 89, 37, 93,  1],\n",
       "       [30, 26, 32, 17,  1],\n",
       "       [76, 11, 71, 52,  1],\n",
       "       [44, 56, 66, 10,  1],\n",
       "       [65, 38, 99, 91,  1]])"
      ]
     },
     "execution_count": 439,
     "metadata": {},
     "output_type": "execute_result"
    }
   ],
   "source": [
    "np.append(b, np.array([1,1,1,1,1,1]).reshape(6,1), axis = 1)"
   ]
  },
  {
   "cell_type": "code",
   "execution_count": 440,
   "id": "8ef2e410-44b1-40ed-a052-3e13e80bc0fb",
   "metadata": {},
   "outputs": [
    {
     "data": {
      "text/plain": [
       "array([[94., 43.,  5., 96.,  1.],\n",
       "       [22., 89., 37., 93.,  1.],\n",
       "       [30., 26., 32., 17.,  1.],\n",
       "       [76., 11., 71., 52.,  1.],\n",
       "       [44., 56., 66., 10.,  1.],\n",
       "       [65., 38., 99., 91.,  1.]])"
      ]
     },
     "execution_count": 440,
     "metadata": {},
     "output_type": "execute_result"
    }
   ],
   "source": [
    "np.append(b, np.ones((b.shape[0],1)),axis =1)\n",
    "\n",
    "# b.shape[0] → Number of rows in array b.\n",
    "# 1 → Number of columns (just 1, making it a column vector)."
   ]
  },
  {
   "cell_type": "code",
   "execution_count": 441,
   "id": "8fa741d0-2ec1-43b7-8615-90fad1015683",
   "metadata": {},
   "outputs": [
    {
     "data": {
      "text/plain": [
       "array([[1., 1.],\n",
       "       [1., 1.],\n",
       "       [1., 1.],\n",
       "       [1., 1.],\n",
       "       [1., 1.],\n",
       "       [1., 1.]])"
      ]
     },
     "execution_count": 441,
     "metadata": {},
     "output_type": "execute_result"
    }
   ],
   "source": [
    "np.ones((b.shape[0],2))"
   ]
  },
  {
   "cell_type": "markdown",
   "id": "31d1947e-709c-49bc-88dd-d21e74228704",
   "metadata": {},
   "source": [
    "### np.concatenate\n",
    "\n",
    "numpy.concatenate() function concatenate a sequence of arrays along an existing axis.\n",
    "\n",
    "https://numpy.org/doc/stable/reference/generated/numpy.concatenate.html"
   ]
  },
  {
   "cell_type": "code",
   "execution_count": 442,
   "id": "5568a0ad-357f-49a0-9cac-eb49de5b49b9",
   "metadata": {},
   "outputs": [
    {
     "name": "stdout",
     "output_type": "stream",
     "text": [
      "[[0 1 2]\n",
      " [3 4 5]]\n",
      "[[ 6  7  8]\n",
      " [ 9 10 11]]\n"
     ]
    }
   ],
   "source": [
    "c = np.arange(6).reshape(2, 3)\n",
    "d = np.arange(6,12).reshape(2, 3)\n",
    "\n",
    "print(c)\n",
    "print(d)"
   ]
  },
  {
   "cell_type": "code",
   "execution_count": 443,
   "id": "69d2a3d8-de71-4aa7-ae04-01587ed0829f",
   "metadata": {},
   "outputs": [
    {
     "data": {
      "text/plain": [
       "array([[ 0,  1,  2],\n",
       "       [ 3,  4,  5],\n",
       "       [ 6,  7,  8],\n",
       "       [ 9, 10, 11]])"
      ]
     },
     "execution_count": 443,
     "metadata": {},
     "output_type": "execute_result"
    }
   ],
   "source": [
    "np.concatenate((c,d), axis = 0) # Row wise"
   ]
  },
  {
   "cell_type": "code",
   "execution_count": 444,
   "id": "cf84672c-90f6-4ff7-a2c3-db34e4145980",
   "metadata": {},
   "outputs": [
    {
     "data": {
      "text/plain": [
       "array([[ 0,  1,  2,  6,  7,  8],\n",
       "       [ 3,  4,  5,  9, 10, 11]])"
      ]
     },
     "execution_count": 444,
     "metadata": {},
     "output_type": "execute_result"
    }
   ],
   "source": [
    "np.concatenate((c,d), axis = 1)"
   ]
  },
  {
   "cell_type": "markdown",
   "id": "820190be-e354-4e0d-a68a-38cdc79df7ea",
   "metadata": {},
   "source": [
    "### np.unique\n",
    "\n",
    "With the help of np.unique() method, we can get the unique values from an array given as parameter in np.unique() method.\n",
    "\n",
    "https://numpy.org/doc/stable/reference/generated/numpy.unique.html/"
   ]
  },
  {
   "cell_type": "code",
   "execution_count": 445,
   "id": "e36b46dc-8bd5-4389-85b1-cb0b8fcfe733",
   "metadata": {},
   "outputs": [
    {
     "data": {
      "text/plain": [
       "array([1, 2, 3, 4, 5, 6])"
      ]
     },
     "execution_count": 445,
     "metadata": {},
     "output_type": "execute_result"
    }
   ],
   "source": [
    "e = np.array([1,1,2,2,3,3,4,4,5,5,6,6])\n",
    "np.unique(e)"
   ]
  },
  {
   "cell_type": "markdown",
   "id": "39b985f4-f2c3-4742-b1a1-01a5c02536a8",
   "metadata": {},
   "source": [
    "### np.expand_dims\n",
    "\n",
    "With the help of Numpy.expand_dims() method, we can get the expanded dimensions of an array\n",
    "\n",
    "https://numpy.org/doc/stable/reference/generated/numpy.expand_dims.html"
   ]
  },
  {
   "cell_type": "code",
   "execution_count": 446,
   "id": "2ba09bdd-e013-4b32-936c-1e22f54df374",
   "metadata": {},
   "outputs": [
    {
     "data": {
      "text/plain": [
       "array([12, 48, 33, 23, 44, 73,  7,  9, 54, 69, 18, 25, 97, 76, 24])"
      ]
     },
     "execution_count": 446,
     "metadata": {},
     "output_type": "execute_result"
    }
   ],
   "source": [
    "a "
   ]
  },
  {
   "cell_type": "code",
   "execution_count": 447,
   "id": "8f501138-b6a8-449e-8c2d-1543212e7308",
   "metadata": {},
   "outputs": [
    {
     "data": {
      "text/plain": [
       "(15,)"
      ]
     },
     "execution_count": 447,
     "metadata": {},
     "output_type": "execute_result"
    }
   ],
   "source": [
    "a.shape"
   ]
  },
  {
   "cell_type": "code",
   "execution_count": 448,
   "id": "3c6d7e33-e8ad-4f5f-a76e-447bbc745598",
   "metadata": {},
   "outputs": [
    {
     "data": {
      "text/plain": [
       "array([[12, 48, 33, 23, 44, 73,  7,  9, 54, 69, 18, 25, 97, 76, 24]])"
      ]
     },
     "execution_count": 448,
     "metadata": {},
     "output_type": "execute_result"
    }
   ],
   "source": [
    "b = np.expand_dims(a, axis= 0)\n",
    "b"
   ]
  },
  {
   "cell_type": "code",
   "execution_count": 449,
   "id": "58c75d46-5e39-4749-b3ac-284daea80a2b",
   "metadata": {},
   "outputs": [
    {
     "data": {
      "text/plain": [
       "(1, 15)"
      ]
     },
     "execution_count": 449,
     "metadata": {},
     "output_type": "execute_result"
    }
   ],
   "source": [
    "b.shape"
   ]
  },
  {
   "cell_type": "code",
   "execution_count": 450,
   "id": "a58ab514-74f4-428b-bc56-be3d22ac199f",
   "metadata": {
    "scrolled": true
   },
   "outputs": [
    {
     "data": {
      "text/plain": [
       "array([[12],\n",
       "       [48],\n",
       "       [33],\n",
       "       [23],\n",
       "       [44],\n",
       "       [73],\n",
       "       [ 7],\n",
       "       [ 9],\n",
       "       [54],\n",
       "       [69],\n",
       "       [18],\n",
       "       [25],\n",
       "       [97],\n",
       "       [76],\n",
       "       [24]])"
      ]
     },
     "execution_count": 450,
     "metadata": {},
     "output_type": "execute_result"
    }
   ],
   "source": [
    "np.expand_dims(a, axis= 1)"
   ]
  },
  {
   "cell_type": "markdown",
   "id": "f2d57c54-eb64-4637-a0d7-4cbdc617bc62",
   "metadata": {},
   "source": [
    "### np.where\n",
    "\n",
    "The numpy.where() function returns the indices of elements in an input array where the given condition is satisfied.\n",
    "\n",
    "https://numpy.org/doc/stable/reference/generated/numpy.where.html"
   ]
  },
  {
   "cell_type": "code",
   "execution_count": 451,
   "id": "7282400f-f448-4d66-a1d1-163aa323ee88",
   "metadata": {},
   "outputs": [
    {
     "data": {
      "text/plain": [
       "array([12, 48, 33, 23, 44, 73,  7,  9, 54, 69, 18, 25, 97, 76, 24])"
      ]
     },
     "execution_count": 451,
     "metadata": {},
     "output_type": "execute_result"
    }
   ],
   "source": [
    "a"
   ]
  },
  {
   "cell_type": "code",
   "execution_count": 452,
   "id": "2904ef58-83a8-4e98-a0fe-f198727da9ca",
   "metadata": {},
   "outputs": [
    {
     "data": {
      "text/plain": [
       "(array([ 5,  8,  9, 12, 13], dtype=int64),)"
      ]
     },
     "execution_count": 452,
     "metadata": {},
     "output_type": "execute_result"
    }
   ],
   "source": [
    "# find all indices with value greater than 50\n",
    "np.where(a > 50)"
   ]
  },
  {
   "cell_type": "code",
   "execution_count": 453,
   "id": "674259e8-8d8d-4741-badf-22e919e8bb82",
   "metadata": {},
   "outputs": [
    {
     "data": {
      "text/plain": [
       "array([12, 48, 33, 23, 44,  0,  7,  9,  0,  0, 18, 25,  0,  0, 24])"
      ]
     },
     "execution_count": 453,
     "metadata": {},
     "output_type": "execute_result"
    }
   ],
   "source": [
    "# replace all values > 50 with 0\n",
    "# np.where(condition,true,false)\n",
    "\n",
    "np.where(a>50, 0, a)"
   ]
  },
  {
   "cell_type": "code",
   "execution_count": 454,
   "id": "c066fb2d-9c91-4fb6-bcec-9843f01852f4",
   "metadata": {},
   "outputs": [
    {
     "data": {
      "text/plain": [
       "array([ 0,  0, 33, 23,  0, 73,  7,  9,  0, 69,  0, 25, 97,  0,  0])"
      ]
     },
     "execution_count": 454,
     "metadata": {},
     "output_type": "execute_result"
    }
   ],
   "source": [
    "# replace all even number with 0\n",
    "\n",
    "np.where(a % 2 == 0, 0, a)"
   ]
  },
  {
   "cell_type": "markdown",
   "id": "7163c3ed-9424-4249-a4c9-a4e797691b0c",
   "metadata": {},
   "source": [
    "### np.argmax\n",
    "\n",
    "The numpy.argmax() function returns indices of the max element of the array in a particular axis.\n",
    "\n",
    "https://numpy.org/doc/stable/reference/generated/numpy.argmax.html"
   ]
  },
  {
   "cell_type": "code",
   "execution_count": 455,
   "id": "a77a0911-53d6-4b81-bf02-3e81cf3c455c",
   "metadata": {},
   "outputs": [
    {
     "data": {
      "text/plain": [
       "array([12, 48, 33, 23, 44, 73,  7,  9, 54, 69, 18, 25, 97, 76, 24])"
      ]
     },
     "execution_count": 455,
     "metadata": {},
     "output_type": "execute_result"
    }
   ],
   "source": [
    "a"
   ]
  },
  {
   "cell_type": "code",
   "execution_count": 456,
   "id": "ac92e740-d933-4bd5-a730-c5046a225f90",
   "metadata": {},
   "outputs": [
    {
     "data": {
      "text/plain": [
       "12"
      ]
     },
     "execution_count": 456,
     "metadata": {},
     "output_type": "execute_result"
    }
   ],
   "source": [
    "np.argmax(a)"
   ]
  },
  {
   "cell_type": "code",
   "execution_count": 457,
   "id": "ab568840-9d23-4c66-9da0-f20e68785623",
   "metadata": {},
   "outputs": [
    {
     "data": {
      "text/plain": [
       "array([[ 4, 28, 90, 19],\n",
       "       [60, 25, 11, 73],\n",
       "       [51, 19,  9,  7],\n",
       "       [32, 68, 66, 77],\n",
       "       [10, 15, 78, 90],\n",
       "       [50, 86, 61, 35]])"
      ]
     },
     "execution_count": 457,
     "metadata": {},
     "output_type": "execute_result"
    }
   ],
   "source": [
    "b = np.random.randint(1,100,24).reshape(6, 4)\n",
    "b"
   ]
  },
  {
   "cell_type": "code",
   "execution_count": 458,
   "id": "2cb3035c-cf14-42df-ad01-4dddf2d5c4af",
   "metadata": {},
   "outputs": [
    {
     "data": {
      "text/plain": [
       "array([1, 5, 0, 4], dtype=int64)"
      ]
     },
     "execution_count": 458,
     "metadata": {},
     "output_type": "execute_result"
    }
   ],
   "source": [
    "np.argmax(b, axis= 0)  # 0 --> column wise"
   ]
  },
  {
   "cell_type": "code",
   "execution_count": 459,
   "id": "e85eeda0-5693-4a9e-9da3-27ab083b7ab5",
   "metadata": {},
   "outputs": [
    {
     "data": {
      "text/plain": [
       "array([2, 3, 0, 3, 3, 1], dtype=int64)"
      ]
     },
     "execution_count": 459,
     "metadata": {},
     "output_type": "execute_result"
    }
   ],
   "source": [
    "np.argmax(b, axis= 1)  # 0 --> row wise"
   ]
  },
  {
   "cell_type": "code",
   "execution_count": 460,
   "id": "8f132451-4cab-4fbb-87b9-1f49f0119c4e",
   "metadata": {},
   "outputs": [
    {
     "data": {
      "text/plain": [
       "array([12, 48, 33, 23, 44, 73,  7,  9, 54, 69, 18, 25, 97, 76, 24])"
      ]
     },
     "execution_count": 460,
     "metadata": {},
     "output_type": "execute_result"
    }
   ],
   "source": [
    "a"
   ]
  },
  {
   "cell_type": "code",
   "execution_count": 461,
   "id": "73110cc9-13c4-4785-a383-6a0d73de49ac",
   "metadata": {},
   "outputs": [
    {
     "data": {
      "text/plain": [
       "6"
      ]
     },
     "execution_count": 461,
     "metadata": {},
     "output_type": "execute_result"
    }
   ],
   "source": [
    "# np.argmin\n",
    "\n",
    "np.argmin(a)"
   ]
  },
  {
   "cell_type": "markdown",
   "id": "fccb82c8-3814-4122-a537-5672e73ccbd4",
   "metadata": {},
   "source": [
    "### np.cumsum\n",
    "\n",
    "numpy.cumsum() function is used when we want to compute the cumulative sum of array elements over a given axis.\n",
    "\n",
    "https://numpy.org/doc/stable/reference/generated/numpy.cumsum.html"
   ]
  },
  {
   "cell_type": "code",
   "execution_count": 462,
   "id": "48654e8d-02b3-4cf3-922d-d9f1e7b2af41",
   "metadata": {},
   "outputs": [
    {
     "data": {
      "text/plain": [
       "array([12, 48, 33, 23, 44, 73,  7,  9, 54, 69, 18, 25, 97, 76, 24])"
      ]
     },
     "execution_count": 462,
     "metadata": {},
     "output_type": "execute_result"
    }
   ],
   "source": [
    "a"
   ]
  },
  {
   "cell_type": "code",
   "execution_count": 463,
   "id": "ac8260bc-1fc6-4d98-b373-9210e734ba9a",
   "metadata": {},
   "outputs": [
    {
     "data": {
      "text/plain": [
       "array([ 12,  60,  93, 116, 160, 233, 240, 249, 303, 372, 390, 415, 512,\n",
       "       588, 612])"
      ]
     },
     "execution_count": 463,
     "metadata": {},
     "output_type": "execute_result"
    }
   ],
   "source": [
    "np.cumsum(a)"
   ]
  },
  {
   "cell_type": "code",
   "execution_count": 464,
   "id": "f2c1d625-d50e-4f4b-abe3-6e52f7d874a9",
   "metadata": {},
   "outputs": [
    {
     "data": {
      "text/plain": [
       "array([[ 4, 28, 90, 19],\n",
       "       [60, 25, 11, 73],\n",
       "       [51, 19,  9,  7],\n",
       "       [32, 68, 66, 77],\n",
       "       [10, 15, 78, 90],\n",
       "       [50, 86, 61, 35]])"
      ]
     },
     "execution_count": 464,
     "metadata": {},
     "output_type": "execute_result"
    }
   ],
   "source": [
    "b"
   ]
  },
  {
   "cell_type": "code",
   "execution_count": 465,
   "id": "34d42290-b27f-4ffa-b9d7-59ae9cbbbb91",
   "metadata": {},
   "outputs": [
    {
     "data": {
      "text/plain": [
       "array([   4,   32,  122,  141,  201,  226,  237,  310,  361,  380,  389,\n",
       "        396,  428,  496,  562,  639,  649,  664,  742,  832,  882,  968,\n",
       "       1029, 1064])"
      ]
     },
     "execution_count": 465,
     "metadata": {},
     "output_type": "execute_result"
    }
   ],
   "source": [
    "np.cumsum(b) # converted to 1D then addition is applied"
   ]
  },
  {
   "cell_type": "code",
   "execution_count": 466,
   "id": "77ca7007-5ce8-4c26-a1de-0ee78fb40eec",
   "metadata": {},
   "outputs": [
    {
     "data": {
      "text/plain": [
       "array([[  4,  28,  90,  19],\n",
       "       [ 64,  53, 101,  92],\n",
       "       [115,  72, 110,  99],\n",
       "       [147, 140, 176, 176],\n",
       "       [157, 155, 254, 266],\n",
       "       [207, 241, 315, 301]])"
      ]
     },
     "execution_count": 466,
     "metadata": {},
     "output_type": "execute_result"
    }
   ],
   "source": [
    "np.cumsum(b, axis = 0) # row wise addition"
   ]
  },
  {
   "cell_type": "code",
   "execution_count": 467,
   "id": "49fbfc2e-582c-49fc-a688-9fdd3d9f96fb",
   "metadata": {},
   "outputs": [
    {
     "data": {
      "text/plain": [
       "array([         12,         576,       19008,      437184,    19236096,\n",
       "        1404235008,  1239710464, -1727507712,  1203864064,  1462241792,\n",
       "         550548480,   878810112,  -654765056,  1777463296,  -290553856])"
      ]
     },
     "execution_count": 467,
     "metadata": {},
     "output_type": "execute_result"
    }
   ],
   "source": [
    "# np.prod\n",
    "np.cumprod(a)"
   ]
  },
  {
   "cell_type": "code",
   "execution_count": 468,
   "id": "260e1e1e-b724-47e5-8754-281ec6792837",
   "metadata": {},
   "outputs": [
    {
     "name": "stdout",
     "output_type": "stream",
     "text": [
      "int32\n"
     ]
    }
   ],
   "source": [
    "print(a.dtype)"
   ]
  },
  {
   "cell_type": "markdown",
   "id": "ca8460e4-8615-404d-b37d-f38d64d46402",
   "metadata": {},
   "source": [
    "### np.percentile\n",
    "\n",
    "numpy.percentile()function used to compute the nth percentile of the given data (array elements) along the specified axis.\n",
    "\n",
    "https://numpy.org/doc/stable/reference/generated/numpy.percentile.html"
   ]
  },
  {
   "cell_type": "code",
   "execution_count": 469,
   "id": "0adb455b-ba45-4ec4-a500-949b14e86f5f",
   "metadata": {},
   "outputs": [],
   "source": [
    "# percentile formula: Percentile,P = (p/100)*(N-1) th index[if integer]\n",
    "# p = desired percentile ; N = number of elements in the array "
   ]
  },
  {
   "cell_type": "code",
   "execution_count": 470,
   "id": "43438f31-6d70-4ff9-862d-77623110003b",
   "metadata": {},
   "outputs": [
    {
     "data": {
      "text/plain": [
       "array([12, 48, 33, 23, 44, 73,  7,  9, 54, 69, 18, 25, 97, 76, 24])"
      ]
     },
     "execution_count": 470,
     "metadata": {},
     "output_type": "execute_result"
    }
   ],
   "source": [
    "a     # 8,14,19,24,25,28,33,49,59,63,67,79,82,86,98"
   ]
  },
  {
   "cell_type": "code",
   "execution_count": 471,
   "id": "0f10bae2-ec3f-466c-b0c9-e2e682a68646",
   "metadata": {},
   "outputs": [
    {
     "data": {
      "text/plain": [
       "array([ 7,  9, 12, 18, 23, 24, 25, 33, 44, 48, 54, 69, 73, 76, 97])"
      ]
     },
     "execution_count": 471,
     "metadata": {},
     "output_type": "execute_result"
    }
   ],
   "source": [
    "np.sort(a)"
   ]
  },
  {
   "cell_type": "code",
   "execution_count": 472,
   "id": "3ca5256e-0840-4964-8eea-cc136cb3f45e",
   "metadata": {},
   "outputs": [
    {
     "data": {
      "text/plain": [
       "97.0"
      ]
     },
     "execution_count": 472,
     "metadata": {},
     "output_type": "execute_result"
    }
   ],
   "source": [
    "np.percentile(a, 100) # mamximum"
   ]
  },
  {
   "cell_type": "code",
   "execution_count": 473,
   "id": "86d91918-f341-4adc-b6c0-44de0c8eac4a",
   "metadata": {},
   "outputs": [
    {
     "data": {
      "text/plain": [
       "7.0"
      ]
     },
     "execution_count": 473,
     "metadata": {},
     "output_type": "execute_result"
    }
   ],
   "source": [
    "np.percentile(a, 0) # minimum"
   ]
  },
  {
   "cell_type": "code",
   "execution_count": 474,
   "id": "bbbefc03-6c8c-404a-b1d5-173f78ebe62c",
   "metadata": {},
   "outputs": [
    {
     "data": {
      "text/plain": [
       "33.0"
      ]
     },
     "execution_count": 474,
     "metadata": {},
     "output_type": "execute_result"
    }
   ],
   "source": [
    "np.percentile(a, 50) # median"
   ]
  },
  {
   "cell_type": "code",
   "execution_count": 475,
   "id": "0d99abfd-b20a-4bb5-8b5d-635f454f56b1",
   "metadata": {},
   "outputs": [
    {
     "data": {
      "text/plain": [
       "33.0"
      ]
     },
     "execution_count": 475,
     "metadata": {},
     "output_type": "execute_result"
    }
   ],
   "source": [
    "np.median(a)"
   ]
  },
  {
   "cell_type": "code",
   "execution_count": 476,
   "id": "462e70b3-187c-4abd-b828-de28f170153a",
   "metadata": {},
   "outputs": [
    {
     "name": "stdout",
     "output_type": "stream",
     "text": [
      "63.4\n"
     ]
    }
   ],
   "source": [
    "import numpy as np\n",
    "a = [8,14,19,24,25,28,33,49,59,63,67,79,82,86,98]\n",
    "print(np.percentile(a, 65))  # Output: 63.4\n",
    "\n",
    "# P = (65/100)*(15-1) = 9.1\n",
    "# if Percentile = not integer\n",
    "# Percentile=a[i]+f×(a[i+1]−a[i])\n",
    "# a[i] =a[9] =63 ; a[i+1]=a[10] =67 ;  fractional part (f) = 0.1 ; So, Percentile=63+0.1×(67−63)=63+0.4=63.4"
   ]
  },
  {
   "cell_type": "markdown",
   "id": "1eeee447-49c3-42fb-9f33-e6d31ce760cf",
   "metadata": {},
   "source": [
    "### np.histogram\n",
    "\n",
    "Numpy has a built-in numpy.histogram() function which represents the frequency of data distribution in the graphical form.\n",
    "\n",
    "https://numpy.org/doc/stable/reference/generated/numpy.histogram.html"
   ]
  },
  {
   "cell_type": "code",
   "execution_count": 477,
   "id": "91dc00f4-65ef-4734-99af-611311f9dcb5",
   "metadata": {},
   "outputs": [
    {
     "data": {
      "text/plain": [
       "[8, 14, 19, 24, 25, 28, 33, 49, 59, 63, 67, 79, 82, 86, 98]"
      ]
     },
     "execution_count": 477,
     "metadata": {},
     "output_type": "execute_result"
    }
   ],
   "source": [
    "a"
   ]
  },
  {
   "cell_type": "code",
   "execution_count": 478,
   "id": "cccea15b-6dc6-410a-9035-bc1c6e4b4996",
   "metadata": {},
   "outputs": [
    {
     "data": {
      "text/plain": [
       "(array([1, 2, 3, 1, 1, 1, 2, 1, 2, 1], dtype=int64),\n",
       " array([  0,  10,  20,  30,  40,  50,  60,  70,  80,  90, 100]))"
      ]
     },
     "execution_count": 478,
     "metadata": {},
     "output_type": "execute_result"
    }
   ],
   "source": [
    "np.histogram(a, bins=[0, 10, 20, 30, 40, 50, 60, 70, 80, 90, 100]) # how many items are present in bins"
   ]
  },
  {
   "cell_type": "code",
   "execution_count": 479,
   "id": "a280d81f-c842-495e-a953-f554f3228cb6",
   "metadata": {},
   "outputs": [
    {
     "data": {
      "text/plain": [
       "(array([8, 7], dtype=int64), array([  0,  50, 100]))"
      ]
     },
     "execution_count": 479,
     "metadata": {},
     "output_type": "execute_result"
    }
   ],
   "source": [
    "np.histogram(a, bins = [0, 50, 100])"
   ]
  },
  {
   "cell_type": "markdown",
   "id": "d688c399-569d-4600-97d1-559ae080bfb1",
   "metadata": {},
   "source": [
    "### np.corrcoef\n",
    "\n",
    "Return Pearson product-moment correlation coefficients.\n",
    "\n",
    "https://numpy.org/doc/stable/reference/generated/numpy.corrcoef.html"
   ]
  },
  {
   "cell_type": "code",
   "execution_count": 480,
   "id": "92094c3d-b607-44ce-849f-c06fba014b01",
   "metadata": {},
   "outputs": [],
   "source": [
    "# -1 to 1\n",
    "# 0 --> no correlation; -1 --> negatively correlated; 1 --> positively correlated"
   ]
  },
  {
   "cell_type": "code",
   "execution_count": 481,
   "id": "b92ff60a-e321-4a61-83bc-06c8f6c732fe",
   "metadata": {},
   "outputs": [
    {
     "data": {
      "text/plain": [
       "array([[1.        , 0.25344572],\n",
       "       [0.25344572, 1.        ]])"
      ]
     },
     "execution_count": 481,
     "metadata": {},
     "output_type": "execute_result"
    }
   ],
   "source": [
    "salary = np.array([20000, 40000, 25000, 35000, 60000])\n",
    "experience = np.array([1, 3, 2, 4, 2])\n",
    "\n",
    "np.corrcoef(salary, experience)\n",
    "\n",
    "#              salary   exp\n",
    "#  salary         1     0.25           # The coreraltion\n",
    "#  exp           0.25    1"
   ]
  },
  {
   "cell_type": "markdown",
   "id": "82d6405f-ae38-4007-b4cf-b4b09c4e0793",
   "metadata": {},
   "source": [
    "The correlation of 0.253 indicates a weak-to-moderate positive relationship between salary and experience in this dataset. This means there's some tendency for higher experience to be associated with higher salary, but the relationship isn't very strong.   \n",
    "2 quantity --> 2×2 matrix, 3 quantity --> 3×3 matrix"
   ]
  },
  {
   "cell_type": "markdown",
   "id": "3243ccac-fc55-4bdd-947d-1a9517f719ce",
   "metadata": {},
   "source": [
    "### np.isin\n",
    "With the help of numpy.isin() method, we can see that one array having values are checked in a different numpy array\n",
    "having different elements with different sizes."
   ]
  },
  {
   "cell_type": "code",
   "execution_count": 482,
   "id": "229908dc-bad3-4a36-9a1c-571b85619019",
   "metadata": {},
   "outputs": [
    {
     "data": {
      "text/plain": [
       "array([33, 30, 44, 55, 50])"
      ]
     },
     "execution_count": 482,
     "metadata": {},
     "output_type": "execute_result"
    }
   ],
   "source": [
    "a = np.array([33,30,44,55,50])\n",
    "a"
   ]
  },
  {
   "cell_type": "code",
   "execution_count": 483,
   "id": "234a2649-534e-4836-960d-95f1e711aedc",
   "metadata": {},
   "outputs": [
    {
     "data": {
      "text/plain": [
       "array([30, 50])"
      ]
     },
     "execution_count": 483,
     "metadata": {},
     "output_type": "execute_result"
    }
   ],
   "source": [
    "items = [10, 20, 30, 40, 50, 60, 70, 80, 90, 100]\n",
    "\n",
    "a[np.isin(a, items)] "
   ]
  },
  {
   "cell_type": "markdown",
   "id": "3525c509-7a6a-42b6-a960-cfaf252b42e2",
   "metadata": {},
   "source": [
    "### np.flip\n",
    "The numpy.flip() function reverses the order of array elements along the specified axis,preserving the shape of the array."
   ]
  },
  {
   "cell_type": "code",
   "execution_count": 484,
   "id": "ad47ed31-aaa2-4ece-a65f-5bd41650f28d",
   "metadata": {},
   "outputs": [
    {
     "data": {
      "text/plain": [
       "array([24, 96, 48, 85, 85, 97, 37, 94, 93, 70, 71, 13, 82, 81, 82])"
      ]
     },
     "execution_count": 484,
     "metadata": {},
     "output_type": "execute_result"
    }
   ],
   "source": [
    "a = np.random.randint(1,100,15)\n",
    "a"
   ]
  },
  {
   "cell_type": "code",
   "execution_count": 485,
   "id": "04808867-784b-4528-8080-3fa21b6eaa85",
   "metadata": {},
   "outputs": [
    {
     "data": {
      "text/plain": [
       "array([82, 81, 82, 13, 71, 70, 93, 94, 37, 97, 85, 85, 48, 96, 24])"
      ]
     },
     "execution_count": 485,
     "metadata": {},
     "output_type": "execute_result"
    }
   ],
   "source": [
    "np.flip(a)"
   ]
  },
  {
   "cell_type": "code",
   "execution_count": 486,
   "id": "878c2aa1-f378-4f30-9ac2-6815fc0dd4f0",
   "metadata": {},
   "outputs": [
    {
     "data": {
      "text/plain": [
       "array([[ 4, 28, 90, 19],\n",
       "       [60, 25, 11, 73],\n",
       "       [51, 19,  9,  7],\n",
       "       [32, 68, 66, 77],\n",
       "       [10, 15, 78, 90],\n",
       "       [50, 86, 61, 35]])"
      ]
     },
     "execution_count": 486,
     "metadata": {},
     "output_type": "execute_result"
    }
   ],
   "source": [
    "b"
   ]
  },
  {
   "cell_type": "code",
   "execution_count": 487,
   "id": "bfb9541d-cbae-4ec3-8d85-41b60ff104cb",
   "metadata": {},
   "outputs": [
    {
     "data": {
      "text/plain": [
       "array([[35, 61, 86, 50],\n",
       "       [90, 78, 15, 10],\n",
       "       [77, 66, 68, 32],\n",
       "       [ 7,  9, 19, 51],\n",
       "       [73, 11, 25, 60],\n",
       "       [19, 90, 28,  4]])"
      ]
     },
     "execution_count": 487,
     "metadata": {},
     "output_type": "execute_result"
    }
   ],
   "source": [
    "np.flip(b) # row and column flipping"
   ]
  },
  {
   "cell_type": "code",
   "execution_count": 488,
   "id": "90feddc5-cbc1-4035-92a7-51785932f3a2",
   "metadata": {},
   "outputs": [
    {
     "data": {
      "text/plain": [
       "array([[50, 86, 61, 35],\n",
       "       [10, 15, 78, 90],\n",
       "       [32, 68, 66, 77],\n",
       "       [51, 19,  9,  7],\n",
       "       [60, 25, 11, 73],\n",
       "       [ 4, 28, 90, 19]])"
      ]
     },
     "execution_count": 488,
     "metadata": {},
     "output_type": "execute_result"
    }
   ],
   "source": [
    "np.flip(b, axis=0)\n",
    "\n",
    "# axis=0 → Row-wise flip (vertical flip, top becomes bottom and vice versa).\n",
    "# axis=1 → Column-wise flip (horizontal flip, left becomes right and vice versa)."
   ]
  },
  {
   "cell_type": "markdown",
   "id": "b18b8f56-5163-4aa1-82b9-632ab6b5ed1f",
   "metadata": {},
   "source": [
    "### np.put\n",
    "\n",
    "The numpy.put() function replaces specific elements of an array with given values of p_array. Array indexed works on flattened array.\n",
    "\n",
    "https://numpy.org/doc/stable/reference/generated/numpy.put.html"
   ]
  },
  {
   "cell_type": "code",
   "execution_count": 489,
   "id": "08de821e-c103-42ef-8640-d03da93f5b57",
   "metadata": {},
   "outputs": [
    {
     "data": {
      "text/plain": [
       "array([24, 96, 48, 85, 85, 97, 37, 94, 93, 70, 71, 13, 82, 81, 82])"
      ]
     },
     "execution_count": 489,
     "metadata": {},
     "output_type": "execute_result"
    }
   ],
   "source": [
    "a"
   ]
  },
  {
   "cell_type": "code",
   "execution_count": 490,
   "id": "9dd1606b-e585-437c-8398-babac9ac4165",
   "metadata": {},
   "outputs": [],
   "source": [
    "np.put(a, [0,1], [110, 530]) # permanent change"
   ]
  },
  {
   "cell_type": "code",
   "execution_count": 491,
   "id": "b9580f09-84ed-4276-96e8-4b4221818b0c",
   "metadata": {},
   "outputs": [
    {
     "data": {
      "text/plain": [
       "array([110, 530,  48,  85,  85,  97,  37,  94,  93,  70,  71,  13,  82,\n",
       "        81,  82])"
      ]
     },
     "execution_count": 491,
     "metadata": {},
     "output_type": "execute_result"
    }
   ],
   "source": [
    "a"
   ]
  },
  {
   "cell_type": "markdown",
   "id": "91f1d634-cc36-499d-8dac-b80c84f2aae9",
   "metadata": {},
   "source": [
    "### np.delete\n",
    "\n",
    "The numpy.delete() function returns a new array with the deletion of sub-arrays along with the mentioned axis.\n",
    "\n",
    "https://numpy.org/doc/stable/reference/generated/numpy.delete.html"
   ]
  },
  {
   "cell_type": "code",
   "execution_count": 492,
   "id": "a4bac887-efc6-428f-9cf8-27a23938a826",
   "metadata": {},
   "outputs": [
    {
     "data": {
      "text/plain": [
       "array([110, 530,  48,  85,  85,  97,  37,  94,  93,  70,  71,  13,  82,\n",
       "        81,  82])"
      ]
     },
     "execution_count": 492,
     "metadata": {},
     "output_type": "execute_result"
    }
   ],
   "source": [
    "a"
   ]
  },
  {
   "cell_type": "code",
   "execution_count": 493,
   "id": "88d642b0-6661-44ed-ab6e-8c138b3353d9",
   "metadata": {},
   "outputs": [
    {
     "data": {
      "text/plain": [
       "array([530,  48,  85,  85,  97,  37,  94,  93,  70,  71,  13,  82,  81,\n",
       "        82])"
      ]
     },
     "execution_count": 493,
     "metadata": {},
     "output_type": "execute_result"
    }
   ],
   "source": [
    "#delete 110\n",
    "np.delete(a, 0)"
   ]
  },
  {
   "cell_type": "code",
   "execution_count": 494,
   "id": "a111e710-6c34-4eff-824e-55d110796006",
   "metadata": {},
   "outputs": [
    {
     "data": {
      "text/plain": [
       "array([530,  85,  97,  37,  94,  93,  70,  71,  13,  82,  81,  82])"
      ]
     },
     "execution_count": 494,
     "metadata": {},
     "output_type": "execute_result"
    }
   ],
   "source": [
    "#delete [110,60,94]\n",
    "np.delete(a, [0,2,4])"
   ]
  },
  {
   "cell_type": "markdown",
   "id": "e94aa9b4-1f11-4129-97d3-f8276bd8dad4",
   "metadata": {},
   "source": [
    "### Set functions\n",
    "\n",
    "- np.union1d\n",
    "- np.intersect1d\n",
    "- np.setdiff1d\n",
    "- np.setxor1d\n",
    "- np.in1d"
   ]
  },
  {
   "cell_type": "code",
   "execution_count": 502,
   "id": "3db9ac5b-b799-4b65-a9a3-3bf772ea18c8",
   "metadata": {},
   "outputs": [],
   "source": [
    "m = np.array([1,2,3,4,5])\n",
    "n = np.array([3,4,5,6,7])"
   ]
  },
  {
   "cell_type": "code",
   "execution_count": 504,
   "id": "70780c2c-b74f-49cf-b0dc-eb9347bcb2be",
   "metadata": {},
   "outputs": [
    {
     "data": {
      "text/plain": [
       "array([1, 2, 3, 4, 5, 6, 7])"
      ]
     },
     "execution_count": 504,
     "metadata": {},
     "output_type": "execute_result"
    }
   ],
   "source": [
    "np.union1d(m,n)"
   ]
  },
  {
   "cell_type": "code",
   "execution_count": 505,
   "id": "c9b10dc2-57c0-4d48-96e0-aa80506caedf",
   "metadata": {},
   "outputs": [
    {
     "data": {
      "text/plain": [
       "array([3, 4, 5])"
      ]
     },
     "execution_count": 505,
     "metadata": {},
     "output_type": "execute_result"
    }
   ],
   "source": [
    "np.intersect1d(m,n)"
   ]
  },
  {
   "cell_type": "code",
   "execution_count": 506,
   "id": "e137477d-f065-4ce3-a172-119bb9346eed",
   "metadata": {},
   "outputs": [
    {
     "data": {
      "text/plain": [
       "array([1, 2])"
      ]
     },
     "execution_count": 506,
     "metadata": {},
     "output_type": "execute_result"
    }
   ],
   "source": [
    "np.setdiff1d(m,n) # items that are present in m and absent in n"
   ]
  },
  {
   "cell_type": "code",
   "execution_count": 507,
   "id": "3c084886-6342-4b66-a888-b0880a487dc6",
   "metadata": {},
   "outputs": [
    {
     "data": {
      "text/plain": [
       "array([6, 7])"
      ]
     },
     "execution_count": 507,
     "metadata": {},
     "output_type": "execute_result"
    }
   ],
   "source": [
    "np.setdiff1d(n,m)"
   ]
  },
  {
   "cell_type": "code",
   "execution_count": 510,
   "id": "148af999-c3b7-4bc6-8252-bc1e5d353bb1",
   "metadata": {},
   "outputs": [
    {
     "data": {
      "text/plain": [
       "array([1, 2, 6, 7])"
      ]
     },
     "execution_count": 510,
     "metadata": {},
     "output_type": "execute_result"
    }
   ],
   "source": [
    "np.setxor1d(m,n) # all items except common items "
   ]
  },
  {
   "cell_type": "code",
   "execution_count": 514,
   "id": "e5b7ecfe-075b-472e-9416-ab04aab92f49",
   "metadata": {},
   "outputs": [
    {
     "data": {
      "text/plain": [
       "array([False, False,  True,  True,  True])"
      ]
     },
     "execution_count": 514,
     "metadata": {},
     "output_type": "execute_result"
    }
   ],
   "source": [
    "np.in1d(m,n)"
   ]
  },
  {
   "cell_type": "code",
   "execution_count": 515,
   "id": "332bed46-29ae-488c-ba11-372085e748f8",
   "metadata": {},
   "outputs": [
    {
     "data": {
      "text/plain": [
       "array([3, 4, 5])"
      ]
     },
     "execution_count": 515,
     "metadata": {},
     "output_type": "execute_result"
    }
   ],
   "source": [
    "m[np.in1d(m,n)]"
   ]
  },
  {
   "cell_type": "code",
   "execution_count": 516,
   "id": "95afc280-1997-4ba3-9132-ac029283369c",
   "metadata": {},
   "outputs": [
    {
     "data": {
      "text/plain": [
       "array([ True, False, False, False, False])"
      ]
     },
     "execution_count": 516,
     "metadata": {},
     "output_type": "execute_result"
    }
   ],
   "source": [
    "np.in1d(m,1)"
   ]
  },
  {
   "cell_type": "code",
   "execution_count": 517,
   "id": "fed7df8d-fe88-4aeb-b7ba-2c2399ace29f",
   "metadata": {},
   "outputs": [
    {
     "data": {
      "text/plain": [
       "array([False, False, False, False, False])"
      ]
     },
     "execution_count": 517,
     "metadata": {},
     "output_type": "execute_result"
    }
   ],
   "source": [
    "np.in1d(m,10)"
   ]
  },
  {
   "cell_type": "code",
   "execution_count": 519,
   "id": "b651db5d-9cb0-4b3f-9f70-a7226e99c9df",
   "metadata": {},
   "outputs": [
    {
     "data": {
      "text/plain": [
       "array([1])"
      ]
     },
     "execution_count": 519,
     "metadata": {},
     "output_type": "execute_result"
    }
   ],
   "source": [
    "m[np.in1d(m,1)]"
   ]
  },
  {
   "cell_type": "markdown",
   "id": "1cbe9653-2351-4fc5-8d65-9377233643f6",
   "metadata": {},
   "source": [
    "### np.clip\n",
    "\n",
    "numpy.clip() function is used to Clip (limit) the values in an array.\n",
    "\n",
    "https://numpy.org/doc/stable/reference/generated/numpy.clip.html"
   ]
  },
  {
   "cell_type": "code",
   "execution_count": 520,
   "id": "a3c026dd-b463-4398-9766-9d6894f69ac0",
   "metadata": {},
   "outputs": [
    {
     "data": {
      "text/plain": [
       "array([110, 530,  48,  85,  85,  97,  37,  94,  93,  70,  71,  13,  82,\n",
       "        81,  82])"
      ]
     },
     "execution_count": 520,
     "metadata": {},
     "output_type": "execute_result"
    }
   ],
   "source": [
    "a"
   ]
  },
  {
   "cell_type": "code",
   "execution_count": 523,
   "id": "3aa233b3-db2c-4fee-91de-0f54d69210f7",
   "metadata": {},
   "outputs": [
    {
     "data": {
      "text/plain": [
       "array([75, 75, 48, 75, 75, 75, 37, 75, 75, 70, 71, 25, 75, 75, 75])"
      ]
     },
     "execution_count": 523,
     "metadata": {},
     "output_type": "execute_result"
    }
   ],
   "source": [
    "np.clip(a, a_min = 25, a_max = 75) # greter than 75 number is replaced by 75\n",
    "                                   # smaller than 25 number is replaced by 25"
   ]
  },
  {
   "cell_type": "code",
   "execution_count": null,
   "id": "a464068b-32b3-4d81-9fff-e4ba4a4f6d02",
   "metadata": {},
   "outputs": [],
   "source": []
  },
  {
   "cell_type": "code",
   "execution_count": null,
   "id": "fec85cf4-3b0a-4852-ae92-4a9d098fa815",
   "metadata": {},
   "outputs": [],
   "source": []
  },
  {
   "cell_type": "code",
   "execution_count": 495,
   "id": "ecf33506-3870-4ebd-adb6-e006a65a4fda",
   "metadata": {},
   "outputs": [],
   "source": [
    "# 17. np.swapaxes"
   ]
  },
  {
   "cell_type": "code",
   "execution_count": 496,
   "id": "d5b8397f-6f52-45b6-bdca-477163c054f9",
   "metadata": {},
   "outputs": [],
   "source": [
    "# 18. np.uniform"
   ]
  },
  {
   "cell_type": "code",
   "execution_count": 497,
   "id": "24aa076c-0ef0-4d5c-bf06-18a39024da4b",
   "metadata": {},
   "outputs": [],
   "source": [
    "# 19. np.count_nonzero"
   ]
  },
  {
   "cell_type": "code",
   "execution_count": 498,
   "id": "909701a7-1560-4749-ae23-57ecbbdf2e80",
   "metadata": {},
   "outputs": [],
   "source": [
    "# 21. np.tile\n",
    "# https://www.kaggle.com/code/abhayparashar31/best-numpy-functions-for-data-science-50?scriptVersionId=98816580"
   ]
  },
  {
   "cell_type": "code",
   "execution_count": 499,
   "id": "ced906af-7a95-4d00-adf7-8c3a2f2d4cc5",
   "metadata": {},
   "outputs": [],
   "source": [
    "# 22. np.repeat\n",
    "# https://towardsdatascience.com/10-numpy-functions-you-should-know-1dc4863764c5"
   ]
  },
  {
   "cell_type": "code",
   "execution_count": 500,
   "id": "7522fdb0-1acc-497e-bc72-ab98c55adda7",
   "metadata": {},
   "outputs": [],
   "source": [
    "\n",
    "# 25. np.allclose and equals"
   ]
  },
  {
   "cell_type": "code",
   "execution_count": null,
   "id": "4ac34af7-f278-49a5-9a11-0827356faf81",
   "metadata": {},
   "outputs": [],
   "source": []
  },
  {
   "cell_type": "code",
   "execution_count": null,
   "id": "e5be247c-0d99-4bf7-b8c7-d5e2dab4f601",
   "metadata": {},
   "outputs": [],
   "source": []
  },
  {
   "cell_type": "code",
   "execution_count": null,
   "id": "ddc3b6fa-96e0-4d1c-939c-611c6047a461",
   "metadata": {},
   "outputs": [],
   "source": []
  },
  {
   "cell_type": "code",
   "execution_count": null,
   "id": "891a4b05-4d27-4e2b-a7e1-9475d268c653",
   "metadata": {},
   "outputs": [],
   "source": []
  },
  {
   "cell_type": "code",
   "execution_count": null,
   "id": "9e42e87f-3b81-4db3-91f2-17c73729f602",
   "metadata": {},
   "outputs": [],
   "source": []
  },
  {
   "cell_type": "code",
   "execution_count": null,
   "id": "2607526d-0f34-4aaf-8d95-46745877372c",
   "metadata": {},
   "outputs": [],
   "source": []
  },
  {
   "cell_type": "code",
   "execution_count": null,
   "id": "ede91954-b3a1-4adb-a3b9-da758ec274fb",
   "metadata": {},
   "outputs": [],
   "source": []
  },
  {
   "cell_type": "code",
   "execution_count": null,
   "id": "f754032a-e98a-4f96-a3c9-a2c0dc7fce95",
   "metadata": {},
   "outputs": [],
   "source": []
  },
  {
   "cell_type": "code",
   "execution_count": null,
   "id": "3eeaa596-7a94-401a-9e95-02327963bf3a",
   "metadata": {},
   "outputs": [],
   "source": []
  },
  {
   "cell_type": "code",
   "execution_count": null,
   "id": "9f14b3f9-b35a-4dd3-81fd-82e097c7b152",
   "metadata": {},
   "outputs": [],
   "source": []
  },
  {
   "cell_type": "code",
   "execution_count": null,
   "id": "7e9be351-ab34-4c07-8c7c-a080728b1515",
   "metadata": {},
   "outputs": [],
   "source": []
  }
 ],
 "metadata": {
  "kernelspec": {
   "display_name": "Python 3 (ipykernel)",
   "language": "python",
   "name": "python3"
  },
  "language_info": {
   "codemirror_mode": {
    "name": "ipython",
    "version": 3
   },
   "file_extension": ".py",
   "mimetype": "text/x-python",
   "name": "python",
   "nbconvert_exporter": "python",
   "pygments_lexer": "ipython3",
   "version": "3.12.7"
  }
 },
 "nbformat": 4,
 "nbformat_minor": 5
}
